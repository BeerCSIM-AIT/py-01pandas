{
 "cells": [
  {
   "cell_type": "markdown",
   "metadata": {},
   "source": [
    "<h3 style=\"color:darkblue\">Missing Data, Time Series, and Plotting Using Matplotlib</h3>\n",
    "<p>\n",
    "<li> Handling missing data\n",
    "<li> Handling time series and dates\n",
    "<li> Plotting using matplotlib\n",
    "    </li> "
   ]
  },
  {
   "cell_type": "markdown",
   "metadata": {},
   "source": [
    "<table style=\"width:80%\">\n",
    "  <tr>\n",
    "    <th style=\"text-align:center\">Short Name</th>\n",
    "    <th style=\"text-align:center\">Definitions</th> \n",
    "  </tr>\n",
    "  <tr>\n",
    "    <td style=\"text-align:center\">B, BM</td>\n",
    "    <td style=\"text-align:left\">This stands for business day, business month. These are the working days of the month, that is, any day that is not a holiday or a weekend.</td> \n",
    "  </tr>\n",
    "  <tr>\n",
    "    <td style=\"text-align:center\">D, W, M, Q, A</td>\n",
    "    <td style=\"text-align:left\">It stands for calendar day, week, month, quarter, year-end.</td> \n",
    "  </tr>\n",
    "  <tr>\n",
    "    <td style=\"text-align:center\">H, T, S, L, U</td>\n",
    "    <td style=\"text-align:left\">It stands for hour, minute, second, millisecond, and microsecond.</td> \n",
    "  </tr>\n",
    "  <tr>\n",
    "    <td style=\"text-align:center\">W - SUN, MON, ... </td>\n",
    "    <td style=\"text-align:left\">for example, W-TUE indicates a weekly frequency starting on a Tuesday.</td> \n",
    "  </tr>\n",
    "  <tr>\n",
    "    <td style=\"text-align:center\">Q - JAN, FEB, ... DEC</td>\n",
    "    <td style=\"text-align:left\">for example, Q-MAY indicates a quarterly frequency with the year-end in May.</td> \n",
    "  </tr>\n",
    "  <tr>\n",
    "    <td style=\"text-align:center\">A - JAN, FEB, ... DEC</td>\n",
    "    <td style=\"text-align:left\">for example, A-MAY indicates an annual frequency with the year-end in May.</td> \n",
    "  </tr>\n",
    "</table>"
   ]
  },
  {
   "cell_type": "code",
   "execution_count": 1,
   "metadata": {},
   "outputs": [],
   "source": [
    "import numpy as np\n",
    "import pandas as pd\n",
    "import matplotlib.pyplot as plt\n",
    "%matplotlib inline"
   ]
  },
  {
   "cell_type": "markdown",
   "metadata": {},
   "source": [
    "<b style=\"color:LightSteelBlue;font-size:130%\">Handling </b><b style=\"color:DarkSlateBlue;font-size:130%\">missing data</b>"
   ]
  },
  {
   "cell_type": "markdown",
   "metadata": {},
   "source": [
    "EX1: Set timestamps to datetime "
   ]
  },
  {
   "cell_type": "code",
   "execution_count": 2,
   "metadata": {},
   "outputs": [
    {
     "data": {
      "text/html": [
       "<div>\n",
       "<style scoped>\n",
       "    .dataframe tbody tr th:only-of-type {\n",
       "        vertical-align: middle;\n",
       "    }\n",
       "\n",
       "    .dataframe tbody tr th {\n",
       "        vertical-align: top;\n",
       "    }\n",
       "\n",
       "    .dataframe thead th {\n",
       "        text-align: right;\n",
       "    }\n",
       "</style>\n",
       "<table border=\"1\" class=\"dataframe\">\n",
       "  <thead>\n",
       "    <tr style=\"text-align: right;\">\n",
       "      <th></th>\n",
       "      <th>closingPrice</th>\n",
       "    </tr>\n",
       "  </thead>\n",
       "  <tbody>\n",
       "    <tr>\n",
       "      <th>2014-05-01</th>\n",
       "      <td>531.35</td>\n",
       "    </tr>\n",
       "    <tr>\n",
       "      <th>2014-05-02</th>\n",
       "      <td>527.93</td>\n",
       "    </tr>\n",
       "    <tr>\n",
       "      <th>2014-05-05</th>\n",
       "      <td>527.81</td>\n",
       "    </tr>\n",
       "    <tr>\n",
       "      <th>2014-05-06</th>\n",
       "      <td>515.14</td>\n",
       "    </tr>\n",
       "    <tr>\n",
       "      <th>2014-05-07</th>\n",
       "      <td>509.96</td>\n",
       "    </tr>\n",
       "  </tbody>\n",
       "</table>\n",
       "</div>"
      ],
      "text/plain": [
       "            closingPrice\n",
       "2014-05-01        531.35\n",
       "2014-05-02        527.93\n",
       "2014-05-05        527.81\n",
       "2014-05-06        515.14\n",
       "2014-05-07        509.96"
      ]
     },
     "execution_count": 2,
     "metadata": {},
     "output_type": "execute_result"
    }
   ],
   "source": [
    "date_stngs = ['2014-05-01','2014-05-02','2014-05-05','2014-05-06','2014-05-07']\n",
    "tradeDates = pd.to_datetime(pd.Series(date_stngs))\n",
    "closingPrices = [531.35,527.93,527.81,515.14,509.96]\n",
    "googClosingPrices = pd.DataFrame(data=closingPrices,\n",
    "                                 columns=['closingPrice'],\n",
    "                                 index=tradeDates)\n",
    "googClosingPrices"
   ]
  },
  {
   "cell_type": "markdown",
   "metadata": {},
   "source": [
    "EX2: Cahnge frequency"
   ]
  },
  {
   "cell_type": "markdown",
   "metadata": {},
   "source": [
    "Use API data"
   ]
  },
  {
   "cell_type": "code",
   "execution_count": 4,
   "metadata": {},
   "outputs": [
    {
     "name": "stdout",
     "output_type": "stream",
     "text": [
      "Collecting pandas-datareader\n",
      "  Downloading pandas_datareader-0.9.0-py3-none-any.whl (107 kB)\n",
      "\u001b[K     |████████████████████████████████| 107 kB 1.8 MB/s eta 0:00:01\n",
      "\u001b[?25hRequirement already satisfied: pandas>=0.23 in /Users/nathbunditwattanawong/opt/anaconda3/lib/python3.7/site-packages (from pandas-datareader) (1.0.1)\n",
      "Requirement already satisfied: lxml in /Users/nathbunditwattanawong/opt/anaconda3/lib/python3.7/site-packages (from pandas-datareader) (4.5.0)\n",
      "Requirement already satisfied: requests>=2.19.0 in /Users/nathbunditwattanawong/opt/anaconda3/lib/python3.7/site-packages (from pandas-datareader) (2.22.0)\n",
      "Requirement already satisfied: python-dateutil>=2.6.1 in /Users/nathbunditwattanawong/opt/anaconda3/lib/python3.7/site-packages (from pandas>=0.23->pandas-datareader) (2.8.1)\n",
      "Requirement already satisfied: pytz>=2017.2 in /Users/nathbunditwattanawong/opt/anaconda3/lib/python3.7/site-packages (from pandas>=0.23->pandas-datareader) (2019.3)\n",
      "Requirement already satisfied: numpy>=1.13.3 in /Users/nathbunditwattanawong/opt/anaconda3/lib/python3.7/site-packages (from pandas>=0.23->pandas-datareader) (1.18.1)\n",
      "Requirement already satisfied: chardet<3.1.0,>=3.0.2 in /Users/nathbunditwattanawong/opt/anaconda3/lib/python3.7/site-packages (from requests>=2.19.0->pandas-datareader) (3.0.4)\n",
      "Requirement already satisfied: urllib3!=1.25.0,!=1.25.1,<1.26,>=1.21.1 in /Users/nathbunditwattanawong/opt/anaconda3/lib/python3.7/site-packages (from requests>=2.19.0->pandas-datareader) (1.25.8)\n",
      "Requirement already satisfied: idna<2.9,>=2.5 in /Users/nathbunditwattanawong/opt/anaconda3/lib/python3.7/site-packages (from requests>=2.19.0->pandas-datareader) (2.8)\n",
      "Requirement already satisfied: certifi>=2017.4.17 in /Users/nathbunditwattanawong/opt/anaconda3/lib/python3.7/site-packages (from requests>=2.19.0->pandas-datareader) (2019.11.28)\n",
      "Requirement already satisfied: six>=1.5 in /Users/nathbunditwattanawong/opt/anaconda3/lib/python3.7/site-packages (from python-dateutil>=2.6.1->pandas>=0.23->pandas-datareader) (1.14.0)\n",
      "Installing collected packages: pandas-datareader\n",
      "Successfully installed pandas-datareader-0.9.0\n"
     ]
    }
   ],
   "source": [
    "!pip install pandas-datareader"
   ]
  },
  {
   "cell_type": "code",
   "execution_count": 9,
   "metadata": {},
   "outputs": [],
   "source": [
    "import pandas_datareader.data as web\n",
    "import datetime"
   ]
  },
  {
   "cell_type": "code",
   "execution_count": 10,
   "metadata": {},
   "outputs": [
    {
     "data": {
      "text/html": [
       "<div>\n",
       "<style scoped>\n",
       "    .dataframe tbody tr th:only-of-type {\n",
       "        vertical-align: middle;\n",
       "    }\n",
       "\n",
       "    .dataframe tbody tr th {\n",
       "        vertical-align: top;\n",
       "    }\n",
       "\n",
       "    .dataframe thead th {\n",
       "        text-align: right;\n",
       "    }\n",
       "</style>\n",
       "<table border=\"1\" class=\"dataframe\">\n",
       "  <thead>\n",
       "    <tr style=\"text-align: right;\">\n",
       "      <th></th>\n",
       "      <th>Close</th>\n",
       "    </tr>\n",
       "  </thead>\n",
       "  <tbody>\n",
       "    <tr>\n",
       "      <th>2014-05-01</th>\n",
       "      <td>529.895203</td>\n",
       "    </tr>\n",
       "    <tr>\n",
       "      <th>2014-05-02</th>\n",
       "      <td>526.484558</td>\n",
       "    </tr>\n",
       "    <tr>\n",
       "      <th>2014-05-05</th>\n",
       "      <td>526.364868</td>\n",
       "    </tr>\n",
       "    <tr>\n",
       "      <th>2014-05-06</th>\n",
       "      <td>513.729553</td>\n",
       "    </tr>\n",
       "    <tr>\n",
       "      <th>2014-05-07</th>\n",
       "      <td>508.563751</td>\n",
       "    </tr>\n",
       "  </tbody>\n",
       "</table>\n",
       "</div>"
      ],
      "text/plain": [
       "                 Close\n",
       "2014-05-01  529.895203\n",
       "2014-05-02  526.484558\n",
       "2014-05-05  526.364868\n",
       "2014-05-06  513.729553\n",
       "2014-05-07  508.563751"
      ]
     },
     "execution_count": 10,
     "metadata": {},
     "output_type": "execute_result"
    }
   ],
   "source": [
    "googPrices = web.get_data_yahoo(\"GOOG\",\n",
    "                                start = datetime.datetime(2014, 5, 1),\n",
    "                                end = datetime.datetime(2014, 5, 7))\n",
    "googFinalPrices = pd.DataFrame(googPrices['Close'], index=tradeDates)\n",
    "googFinalPrices"
   ]
  },
  {
   "cell_type": "markdown",
   "metadata": {},
   "source": [
    "Reset frequency"
   ]
  },
  {
   "cell_type": "code",
   "execution_count": 11,
   "metadata": {},
   "outputs": [
    {
     "data": {
      "text/html": [
       "<div>\n",
       "<style scoped>\n",
       "    .dataframe tbody tr th:only-of-type {\n",
       "        vertical-align: middle;\n",
       "    }\n",
       "\n",
       "    .dataframe tbody tr th {\n",
       "        vertical-align: top;\n",
       "    }\n",
       "\n",
       "    .dataframe thead th {\n",
       "        text-align: right;\n",
       "    }\n",
       "</style>\n",
       "<table border=\"1\" class=\"dataframe\">\n",
       "  <thead>\n",
       "    <tr style=\"text-align: right;\">\n",
       "      <th></th>\n",
       "      <th>closingPrice</th>\n",
       "    </tr>\n",
       "  </thead>\n",
       "  <tbody>\n",
       "    <tr>\n",
       "      <th>2014-05-01</th>\n",
       "      <td>531.35</td>\n",
       "    </tr>\n",
       "    <tr>\n",
       "      <th>2014-05-02</th>\n",
       "      <td>527.93</td>\n",
       "    </tr>\n",
       "    <tr>\n",
       "      <th>2014-05-03</th>\n",
       "      <td>NaN</td>\n",
       "    </tr>\n",
       "    <tr>\n",
       "      <th>2014-05-04</th>\n",
       "      <td>NaN</td>\n",
       "    </tr>\n",
       "    <tr>\n",
       "      <th>2014-05-05</th>\n",
       "      <td>527.81</td>\n",
       "    </tr>\n",
       "    <tr>\n",
       "      <th>2014-05-06</th>\n",
       "      <td>515.14</td>\n",
       "    </tr>\n",
       "    <tr>\n",
       "      <th>2014-05-07</th>\n",
       "      <td>509.96</td>\n",
       "    </tr>\n",
       "  </tbody>\n",
       "</table>\n",
       "</div>"
      ],
      "text/plain": [
       "            closingPrice\n",
       "2014-05-01        531.35\n",
       "2014-05-02        527.93\n",
       "2014-05-03           NaN\n",
       "2014-05-04           NaN\n",
       "2014-05-05        527.81\n",
       "2014-05-06        515.14\n",
       "2014-05-07        509.96"
      ]
     },
     "execution_count": 11,
     "metadata": {},
     "output_type": "execute_result"
    }
   ],
   "source": [
    "googClosingPricesCDays = googClosingPrices.asfreq('D'); googClosingPricesCDays"
   ]
  },
  {
   "cell_type": "markdown",
   "metadata": {},
   "source": [
    "EX3: Timestamps missing values "
   ]
  },
  {
   "cell_type": "markdown",
   "metadata": {},
   "source": [
    "Weekend and workday data"
   ]
  },
  {
   "cell_type": "code",
   "execution_count": 12,
   "metadata": {},
   "outputs": [
    {
     "data": {
      "text/html": [
       "<div>\n",
       "<style scoped>\n",
       "    .dataframe tbody tr th:only-of-type {\n",
       "        vertical-align: middle;\n",
       "    }\n",
       "\n",
       "    .dataframe tbody tr th {\n",
       "        vertical-align: top;\n",
       "    }\n",
       "\n",
       "    .dataframe thead th {\n",
       "        text-align: right;\n",
       "    }\n",
       "</style>\n",
       "<table border=\"1\" class=\"dataframe\">\n",
       "  <thead>\n",
       "    <tr style=\"text-align: right;\">\n",
       "      <th></th>\n",
       "      <th>closingPrice</th>\n",
       "    </tr>\n",
       "  </thead>\n",
       "  <tbody>\n",
       "    <tr>\n",
       "      <th>2014-05-01</th>\n",
       "      <td>False</td>\n",
       "    </tr>\n",
       "    <tr>\n",
       "      <th>2014-05-02</th>\n",
       "      <td>False</td>\n",
       "    </tr>\n",
       "    <tr>\n",
       "      <th>2014-05-03</th>\n",
       "      <td>True</td>\n",
       "    </tr>\n",
       "    <tr>\n",
       "      <th>2014-05-04</th>\n",
       "      <td>True</td>\n",
       "    </tr>\n",
       "    <tr>\n",
       "      <th>2014-05-05</th>\n",
       "      <td>False</td>\n",
       "    </tr>\n",
       "    <tr>\n",
       "      <th>2014-05-06</th>\n",
       "      <td>False</td>\n",
       "    </tr>\n",
       "    <tr>\n",
       "      <th>2014-05-07</th>\n",
       "      <td>False</td>\n",
       "    </tr>\n",
       "  </tbody>\n",
       "</table>\n",
       "</div>"
      ],
      "text/plain": [
       "            closingPrice\n",
       "2014-05-01         False\n",
       "2014-05-02         False\n",
       "2014-05-03          True\n",
       "2014-05-04          True\n",
       "2014-05-05         False\n",
       "2014-05-06         False\n",
       "2014-05-07         False"
      ]
     },
     "execution_count": 12,
     "metadata": {},
     "output_type": "execute_result"
    }
   ],
   "source": [
    "googClosingPricesCDays.isnull()"
   ]
  },
  {
   "cell_type": "code",
   "execution_count": 13,
   "metadata": {},
   "outputs": [
    {
     "data": {
      "text/html": [
       "<div>\n",
       "<style scoped>\n",
       "    .dataframe tbody tr th:only-of-type {\n",
       "        vertical-align: middle;\n",
       "    }\n",
       "\n",
       "    .dataframe tbody tr th {\n",
       "        vertical-align: top;\n",
       "    }\n",
       "\n",
       "    .dataframe thead th {\n",
       "        text-align: right;\n",
       "    }\n",
       "</style>\n",
       "<table border=\"1\" class=\"dataframe\">\n",
       "  <thead>\n",
       "    <tr style=\"text-align: right;\">\n",
       "      <th></th>\n",
       "      <th>closingPrice</th>\n",
       "    </tr>\n",
       "  </thead>\n",
       "  <tbody>\n",
       "    <tr>\n",
       "      <th>2014-05-01</th>\n",
       "      <td>True</td>\n",
       "    </tr>\n",
       "    <tr>\n",
       "      <th>2014-05-02</th>\n",
       "      <td>True</td>\n",
       "    </tr>\n",
       "    <tr>\n",
       "      <th>2014-05-03</th>\n",
       "      <td>False</td>\n",
       "    </tr>\n",
       "    <tr>\n",
       "      <th>2014-05-04</th>\n",
       "      <td>False</td>\n",
       "    </tr>\n",
       "    <tr>\n",
       "      <th>2014-05-05</th>\n",
       "      <td>True</td>\n",
       "    </tr>\n",
       "    <tr>\n",
       "      <th>2014-05-06</th>\n",
       "      <td>True</td>\n",
       "    </tr>\n",
       "    <tr>\n",
       "      <th>2014-05-07</th>\n",
       "      <td>True</td>\n",
       "    </tr>\n",
       "  </tbody>\n",
       "</table>\n",
       "</div>"
      ],
      "text/plain": [
       "            closingPrice\n",
       "2014-05-01          True\n",
       "2014-05-02          True\n",
       "2014-05-03         False\n",
       "2014-05-04         False\n",
       "2014-05-05          True\n",
       "2014-05-06          True\n",
       "2014-05-07          True"
      ]
     },
     "execution_count": 13,
     "metadata": {},
     "output_type": "execute_result"
    }
   ],
   "source": [
    "googClosingPricesCDays.notnull()"
   ]
  },
  {
   "cell_type": "code",
   "execution_count": 15,
   "metadata": {},
   "outputs": [
    {
     "data": {
      "text/plain": [
       "0   2014-05-01\n",
       "1          NaT\n",
       "2   2014-05-05\n",
       "3   2014-05-06\n",
       "4          NaT\n",
       "dtype: datetime64[ns]"
      ]
     },
     "execution_count": 15,
     "metadata": {},
     "output_type": "execute_result"
    }
   ],
   "source": [
    "tDates = tradeDates.copy()\n",
    "tDates[1] = np.NaN\n",
    "tDates[4] = np.NaN\n",
    "tDates"
   ]
  },
  {
   "cell_type": "markdown",
   "metadata": {},
   "source": [
    "EX4: Datetime"
   ]
  },
  {
   "cell_type": "code",
   "execution_count": 56,
   "metadata": {},
   "outputs": [
    {
     "data": {
      "text/html": [
       "<div>\n",
       "<style scoped>\n",
       "    .dataframe tbody tr th:only-of-type {\n",
       "        vertical-align: middle;\n",
       "    }\n",
       "\n",
       "    .dataframe tbody tr th {\n",
       "        vertical-align: top;\n",
       "    }\n",
       "\n",
       "    .dataframe thead th {\n",
       "        text-align: right;\n",
       "    }\n",
       "</style>\n",
       "<table border=\"1\" class=\"dataframe\">\n",
       "  <thead>\n",
       "    <tr style=\"text-align: right;\">\n",
       "      <th></th>\n",
       "      <th>FB</th>\n",
       "      <th>TWTR</th>\n",
       "      <th>TradeDate</th>\n",
       "    </tr>\n",
       "  </thead>\n",
       "  <tbody>\n",
       "    <tr>\n",
       "      <th>0</th>\n",
       "      <td>82.34</td>\n",
       "      <td>15.74</td>\n",
       "      <td>2014-05-01</td>\n",
       "    </tr>\n",
       "    <tr>\n",
       "      <th>1</th>\n",
       "      <td>54.11</td>\n",
       "      <td>12.71</td>\n",
       "      <td>2014-05-02</td>\n",
       "    </tr>\n",
       "    <tr>\n",
       "      <th>2</th>\n",
       "      <td>45.99</td>\n",
       "      <td>10.39</td>\n",
       "      <td>2014-05-05</td>\n",
       "    </tr>\n",
       "    <tr>\n",
       "      <th>3</th>\n",
       "      <td>55.86</td>\n",
       "      <td>134.62</td>\n",
       "      <td>2014-05-06</td>\n",
       "    </tr>\n",
       "    <tr>\n",
       "      <th>4</th>\n",
       "      <td>78.50</td>\n",
       "      <td>68.84</td>\n",
       "      <td>2014-05-07</td>\n",
       "    </tr>\n",
       "  </tbody>\n",
       "</table>\n",
       "</div>"
      ],
      "text/plain": [
       "      FB    TWTR  TradeDate\n",
       "0  82.34   15.74 2014-05-01\n",
       "1  54.11   12.71 2014-05-02\n",
       "2  45.99   10.39 2014-05-05\n",
       "3  55.86  134.62 2014-05-06\n",
       "4  78.50   68.84 2014-05-07"
      ]
     },
     "execution_count": 56,
     "metadata": {},
     "output_type": "execute_result"
    }
   ],
   "source": [
    "FBVolume = [82.34,54.11,45.99,55.86,78.5]\n",
    "TWTRVolume = [15.74,12.71,10.39,134.62,68.84]\n",
    "socialTradingVolume = pd.concat([pd.Series(FBVolume),\n",
    "                                 pd.Series(TWTRVolume),\n",
    "                                 tradeDates], \n",
    "                                axis=1,\n",
    "                                keys=['FB','TWTR','TradeDate'])\n",
    "socialTradingVolume"
   ]
  },
  {
   "cell_type": "code",
   "execution_count": 60,
   "metadata": {},
   "outputs": [
    {
     "data": {
      "text/html": [
       "<div>\n",
       "<style scoped>\n",
       "    .dataframe tbody tr th:only-of-type {\n",
       "        vertical-align: middle;\n",
       "    }\n",
       "\n",
       "    .dataframe tbody tr th {\n",
       "        vertical-align: top;\n",
       "    }\n",
       "\n",
       "    .dataframe thead th {\n",
       "        text-align: right;\n",
       "    }\n",
       "</style>\n",
       "<table border=\"1\" class=\"dataframe\">\n",
       "  <thead>\n",
       "    <tr style=\"text-align: right;\">\n",
       "      <th></th>\n",
       "      <th>FB</th>\n",
       "      <th>TWTR</th>\n",
       "    </tr>\n",
       "    <tr>\n",
       "      <th>TradeDate</th>\n",
       "      <th></th>\n",
       "      <th></th>\n",
       "    </tr>\n",
       "  </thead>\n",
       "  <tbody>\n",
       "    <tr>\n",
       "      <th>2014-05-01</th>\n",
       "      <td>82.34</td>\n",
       "      <td>15.74</td>\n",
       "    </tr>\n",
       "    <tr>\n",
       "      <th>2014-05-02</th>\n",
       "      <td>54.11</td>\n",
       "      <td>12.71</td>\n",
       "    </tr>\n",
       "    <tr>\n",
       "      <th>2014-05-03</th>\n",
       "      <td>NaN</td>\n",
       "      <td>NaN</td>\n",
       "    </tr>\n",
       "    <tr>\n",
       "      <th>2014-05-04</th>\n",
       "      <td>NaN</td>\n",
       "      <td>NaN</td>\n",
       "    </tr>\n",
       "    <tr>\n",
       "      <th>2014-05-05</th>\n",
       "      <td>45.99</td>\n",
       "      <td>10.39</td>\n",
       "    </tr>\n",
       "    <tr>\n",
       "      <th>2014-05-06</th>\n",
       "      <td>55.86</td>\n",
       "      <td>134.62</td>\n",
       "    </tr>\n",
       "    <tr>\n",
       "      <th>2014-05-07</th>\n",
       "      <td>78.50</td>\n",
       "      <td>68.84</td>\n",
       "    </tr>\n",
       "  </tbody>\n",
       "</table>\n",
       "</div>"
      ],
      "text/plain": [
       "               FB    TWTR\n",
       "TradeDate                \n",
       "2014-05-01  82.34   15.74\n",
       "2014-05-02  54.11   12.71\n",
       "2014-05-03    NaN     NaN\n",
       "2014-05-04    NaN     NaN\n",
       "2014-05-05  45.99   10.39\n",
       "2014-05-06  55.86  134.62\n",
       "2014-05-07  78.50   68.84"
      ]
     },
     "execution_count": 60,
     "metadata": {},
     "output_type": "execute_result"
    }
   ],
   "source": [
    "socialTradingVolTS = socialTradingVolume.set_index('TradeDate')\n",
    "socialTradingVolTSCal = socialTradingVolTS.asfreq('D'); socialTradingVolTSCal"
   ]
  },
  {
   "cell_type": "code",
   "execution_count": 19,
   "metadata": {},
   "outputs": [
    {
     "data": {
      "text/plain": [
       "TradeDate\n",
       "2014-05-01     98.08\n",
       "2014-05-02     66.82\n",
       "2014-05-03       NaN\n",
       "2014-05-04       NaN\n",
       "2014-05-05     56.38\n",
       "2014-05-06    190.48\n",
       "2014-05-07    147.34\n",
       "Freq: D, dtype: float64"
      ]
     },
     "execution_count": 19,
     "metadata": {},
     "output_type": "execute_result"
    }
   ],
   "source": [
    "socialTradingVolTSCal['FB'] + socialTradingVolTSCal['TWTR']"
   ]
  },
  {
   "cell_type": "markdown",
   "metadata": {},
   "source": [
    "EX5: Treating the missing value\n",
    "<p>In pandas, the default is to treat the missing value as 0 and do the aggregate calculation, whereas for NumPy, NaN is returned if any of the values are missing. Here is an illustration:"
   ]
  },
  {
   "cell_type": "code",
   "execution_count": 20,
   "metadata": {},
   "outputs": [
    {
     "data": {
      "text/plain": [
       "0     4.0\n",
       "1     NaN\n",
       "2     7.9\n",
       "3    11.6\n",
       "dtype: float64"
      ]
     },
     "execution_count": 20,
     "metadata": {},
     "output_type": "execute_result"
    }
   ],
   "source": [
    "pd.Series([1.0,np.NaN,5.9,6])+pd.Series([3,5,2,5.6])"
   ]
  },
  {
   "cell_type": "code",
   "execution_count": 21,
   "metadata": {},
   "outputs": [
    {
     "data": {
      "text/plain": [
       "0    0.333333\n",
       "1         NaN\n",
       "2    2.750000\n",
       "3    1.071429\n",
       "dtype: float64"
      ]
     },
     "execution_count": 21,
     "metadata": {},
     "output_type": "execute_result"
    }
   ],
   "source": [
    "pd.Series([1.0,25.0,5.5,6])/pd.Series([3,np.NaN,2,5.6])"
   ]
  },
  {
   "cell_type": "code",
   "execution_count": 62,
   "metadata": {},
   "outputs": [
    {
     "name": "stdout",
     "output_type": "stream",
     "text": [
      "nan\n",
      "nan\n"
     ]
    }
   ],
   "source": [
    "print(np.mean([1.0,np.NaN,5.9,6]))\n",
    "print(np.sum([1.0,np.NaN,5.9,6]))"
   ]
  },
  {
   "cell_type": "markdown",
   "metadata": {},
   "source": [
    "It is important to be aware of this difference in behavior between pandas and NumPy. However, if we wish to get NumPy to behave the same way as pandas, we can use the np.nanmean and np.nansum functions, "
   ]
  },
  {
   "cell_type": "code",
   "execution_count": 63,
   "metadata": {},
   "outputs": [
    {
     "name": "stdout",
     "output_type": "stream",
     "text": [
      "12.9\n",
      "4.3\n"
     ]
    }
   ],
   "source": [
    "print(pd.Series([1.0,np.NaN,5.9,6]).sum())\n",
    "print(pd.Series([1.0,np.NaN,5.9,6]).mean())"
   ]
  },
  {
   "cell_type": "code",
   "execution_count": 64,
   "metadata": {},
   "outputs": [
    {
     "name": "stdout",
     "output_type": "stream",
     "text": [
      "4.3\n",
      "12.9\n"
     ]
    }
   ],
   "source": [
    "print(np.nanmean([1.0,np.NaN,5.9,6]))\n",
    "print(np.nansum([1.0,np.NaN,5.9,6]))"
   ]
  },
  {
   "cell_type": "markdown",
   "metadata": {},
   "source": [
    "EX6: Handling missing values"
   ]
  },
  {
   "cell_type": "code",
   "execution_count": 28,
   "metadata": {},
   "outputs": [
    {
     "data": {
      "text/html": [
       "<div>\n",
       "<style scoped>\n",
       "    .dataframe tbody tr th:only-of-type {\n",
       "        vertical-align: middle;\n",
       "    }\n",
       "\n",
       "    .dataframe tbody tr th {\n",
       "        vertical-align: top;\n",
       "    }\n",
       "\n",
       "    .dataframe thead th {\n",
       "        text-align: right;\n",
       "    }\n",
       "</style>\n",
       "<table border=\"1\" class=\"dataframe\">\n",
       "  <thead>\n",
       "    <tr style=\"text-align: right;\">\n",
       "      <th></th>\n",
       "      <th>FB</th>\n",
       "      <th>TWTR</th>\n",
       "    </tr>\n",
       "    <tr>\n",
       "      <th>TradeDate</th>\n",
       "      <th></th>\n",
       "      <th></th>\n",
       "    </tr>\n",
       "  </thead>\n",
       "  <tbody>\n",
       "    <tr>\n",
       "      <th>2014-05-01</th>\n",
       "      <td>82.34</td>\n",
       "      <td>15.74</td>\n",
       "    </tr>\n",
       "    <tr>\n",
       "      <th>2014-05-02</th>\n",
       "      <td>54.11</td>\n",
       "      <td>12.71</td>\n",
       "    </tr>\n",
       "    <tr>\n",
       "      <th>2014-05-03</th>\n",
       "      <td>NaN</td>\n",
       "      <td>NaN</td>\n",
       "    </tr>\n",
       "    <tr>\n",
       "      <th>2014-05-04</th>\n",
       "      <td>NaN</td>\n",
       "      <td>NaN</td>\n",
       "    </tr>\n",
       "    <tr>\n",
       "      <th>2014-05-05</th>\n",
       "      <td>45.99</td>\n",
       "      <td>10.39</td>\n",
       "    </tr>\n",
       "    <tr>\n",
       "      <th>2014-05-06</th>\n",
       "      <td>55.86</td>\n",
       "      <td>134.62</td>\n",
       "    </tr>\n",
       "    <tr>\n",
       "      <th>2014-05-07</th>\n",
       "      <td>78.50</td>\n",
       "      <td>68.84</td>\n",
       "    </tr>\n",
       "  </tbody>\n",
       "</table>\n",
       "</div>"
      ],
      "text/plain": [
       "               FB    TWTR\n",
       "TradeDate                \n",
       "2014-05-01  82.34   15.74\n",
       "2014-05-02  54.11   12.71\n",
       "2014-05-03    NaN     NaN\n",
       "2014-05-04    NaN     NaN\n",
       "2014-05-05  45.99   10.39\n",
       "2014-05-06  55.86  134.62\n",
       "2014-05-07  78.50   68.84"
      ]
     },
     "execution_count": 28,
     "metadata": {},
     "output_type": "execute_result"
    }
   ],
   "source": [
    "socialTradingVolTSCal"
   ]
  },
  {
   "cell_type": "markdown",
   "metadata": {},
   "source": [
    "A) Fill with specific value "
   ]
  },
  {
   "cell_type": "code",
   "execution_count": 29,
   "metadata": {},
   "outputs": [
    {
     "data": {
      "text/html": [
       "<div>\n",
       "<style scoped>\n",
       "    .dataframe tbody tr th:only-of-type {\n",
       "        vertical-align: middle;\n",
       "    }\n",
       "\n",
       "    .dataframe tbody tr th {\n",
       "        vertical-align: top;\n",
       "    }\n",
       "\n",
       "    .dataframe thead th {\n",
       "        text-align: right;\n",
       "    }\n",
       "</style>\n",
       "<table border=\"1\" class=\"dataframe\">\n",
       "  <thead>\n",
       "    <tr style=\"text-align: right;\">\n",
       "      <th></th>\n",
       "      <th>FB</th>\n",
       "      <th>TWTR</th>\n",
       "    </tr>\n",
       "    <tr>\n",
       "      <th>TradeDate</th>\n",
       "      <th></th>\n",
       "      <th></th>\n",
       "    </tr>\n",
       "  </thead>\n",
       "  <tbody>\n",
       "    <tr>\n",
       "      <th>2014-05-01</th>\n",
       "      <td>82.34</td>\n",
       "      <td>15.74</td>\n",
       "    </tr>\n",
       "    <tr>\n",
       "      <th>2014-05-02</th>\n",
       "      <td>54.11</td>\n",
       "      <td>12.71</td>\n",
       "    </tr>\n",
       "    <tr>\n",
       "      <th>2014-05-03</th>\n",
       "      <td>100.00</td>\n",
       "      <td>100.00</td>\n",
       "    </tr>\n",
       "    <tr>\n",
       "      <th>2014-05-04</th>\n",
       "      <td>100.00</td>\n",
       "      <td>100.00</td>\n",
       "    </tr>\n",
       "    <tr>\n",
       "      <th>2014-05-05</th>\n",
       "      <td>45.99</td>\n",
       "      <td>10.39</td>\n",
       "    </tr>\n",
       "    <tr>\n",
       "      <th>2014-05-06</th>\n",
       "      <td>55.86</td>\n",
       "      <td>134.62</td>\n",
       "    </tr>\n",
       "    <tr>\n",
       "      <th>2014-05-07</th>\n",
       "      <td>78.50</td>\n",
       "      <td>68.84</td>\n",
       "    </tr>\n",
       "  </tbody>\n",
       "</table>\n",
       "</div>"
      ],
      "text/plain": [
       "                FB    TWTR\n",
       "TradeDate                 \n",
       "2014-05-01   82.34   15.74\n",
       "2014-05-02   54.11   12.71\n",
       "2014-05-03  100.00  100.00\n",
       "2014-05-04  100.00  100.00\n",
       "2014-05-05   45.99   10.39\n",
       "2014-05-06   55.86  134.62\n",
       "2014-05-07   78.50   68.84"
      ]
     },
     "execution_count": 29,
     "metadata": {},
     "output_type": "execute_result"
    }
   ],
   "source": [
    "socialTradingVolTSCal.fillna(100)"
   ]
  },
  {
   "cell_type": "markdown",
   "metadata": {},
   "source": [
    "B) Forward fill"
   ]
  },
  {
   "cell_type": "code",
   "execution_count": 30,
   "metadata": {},
   "outputs": [
    {
     "data": {
      "text/html": [
       "<div>\n",
       "<style scoped>\n",
       "    .dataframe tbody tr th:only-of-type {\n",
       "        vertical-align: middle;\n",
       "    }\n",
       "\n",
       "    .dataframe tbody tr th {\n",
       "        vertical-align: top;\n",
       "    }\n",
       "\n",
       "    .dataframe thead th {\n",
       "        text-align: right;\n",
       "    }\n",
       "</style>\n",
       "<table border=\"1\" class=\"dataframe\">\n",
       "  <thead>\n",
       "    <tr style=\"text-align: right;\">\n",
       "      <th></th>\n",
       "      <th>FB</th>\n",
       "      <th>TWTR</th>\n",
       "    </tr>\n",
       "    <tr>\n",
       "      <th>TradeDate</th>\n",
       "      <th></th>\n",
       "      <th></th>\n",
       "    </tr>\n",
       "  </thead>\n",
       "  <tbody>\n",
       "    <tr>\n",
       "      <th>2014-05-01</th>\n",
       "      <td>82.34</td>\n",
       "      <td>15.74</td>\n",
       "    </tr>\n",
       "    <tr>\n",
       "      <th>2014-05-02</th>\n",
       "      <td>54.11</td>\n",
       "      <td>12.71</td>\n",
       "    </tr>\n",
       "    <tr>\n",
       "      <th>2014-05-03</th>\n",
       "      <td>54.11</td>\n",
       "      <td>12.71</td>\n",
       "    </tr>\n",
       "    <tr>\n",
       "      <th>2014-05-04</th>\n",
       "      <td>54.11</td>\n",
       "      <td>12.71</td>\n",
       "    </tr>\n",
       "    <tr>\n",
       "      <th>2014-05-05</th>\n",
       "      <td>45.99</td>\n",
       "      <td>10.39</td>\n",
       "    </tr>\n",
       "    <tr>\n",
       "      <th>2014-05-06</th>\n",
       "      <td>55.86</td>\n",
       "      <td>134.62</td>\n",
       "    </tr>\n",
       "    <tr>\n",
       "      <th>2014-05-07</th>\n",
       "      <td>78.50</td>\n",
       "      <td>68.84</td>\n",
       "    </tr>\n",
       "  </tbody>\n",
       "</table>\n",
       "</div>"
      ],
      "text/plain": [
       "               FB    TWTR\n",
       "TradeDate                \n",
       "2014-05-01  82.34   15.74\n",
       "2014-05-02  54.11   12.71\n",
       "2014-05-03  54.11   12.71\n",
       "2014-05-04  54.11   12.71\n",
       "2014-05-05  45.99   10.39\n",
       "2014-05-06  55.86  134.62\n",
       "2014-05-07  78.50   68.84"
      ]
     },
     "execution_count": 30,
     "metadata": {},
     "output_type": "execute_result"
    }
   ],
   "source": [
    "socialTradingVolTSCal.fillna(method='ffill')"
   ]
  },
  {
   "cell_type": "markdown",
   "metadata": {},
   "source": [
    "C) Backward fill"
   ]
  },
  {
   "cell_type": "code",
   "execution_count": 31,
   "metadata": {},
   "outputs": [
    {
     "data": {
      "text/html": [
       "<div>\n",
       "<style scoped>\n",
       "    .dataframe tbody tr th:only-of-type {\n",
       "        vertical-align: middle;\n",
       "    }\n",
       "\n",
       "    .dataframe tbody tr th {\n",
       "        vertical-align: top;\n",
       "    }\n",
       "\n",
       "    .dataframe thead th {\n",
       "        text-align: right;\n",
       "    }\n",
       "</style>\n",
       "<table border=\"1\" class=\"dataframe\">\n",
       "  <thead>\n",
       "    <tr style=\"text-align: right;\">\n",
       "      <th></th>\n",
       "      <th>FB</th>\n",
       "      <th>TWTR</th>\n",
       "    </tr>\n",
       "    <tr>\n",
       "      <th>TradeDate</th>\n",
       "      <th></th>\n",
       "      <th></th>\n",
       "    </tr>\n",
       "  </thead>\n",
       "  <tbody>\n",
       "    <tr>\n",
       "      <th>2014-05-01</th>\n",
       "      <td>82.34</td>\n",
       "      <td>15.74</td>\n",
       "    </tr>\n",
       "    <tr>\n",
       "      <th>2014-05-02</th>\n",
       "      <td>54.11</td>\n",
       "      <td>12.71</td>\n",
       "    </tr>\n",
       "    <tr>\n",
       "      <th>2014-05-03</th>\n",
       "      <td>45.99</td>\n",
       "      <td>10.39</td>\n",
       "    </tr>\n",
       "    <tr>\n",
       "      <th>2014-05-04</th>\n",
       "      <td>45.99</td>\n",
       "      <td>10.39</td>\n",
       "    </tr>\n",
       "    <tr>\n",
       "      <th>2014-05-05</th>\n",
       "      <td>45.99</td>\n",
       "      <td>10.39</td>\n",
       "    </tr>\n",
       "    <tr>\n",
       "      <th>2014-05-06</th>\n",
       "      <td>55.86</td>\n",
       "      <td>134.62</td>\n",
       "    </tr>\n",
       "    <tr>\n",
       "      <th>2014-05-07</th>\n",
       "      <td>78.50</td>\n",
       "      <td>68.84</td>\n",
       "    </tr>\n",
       "  </tbody>\n",
       "</table>\n",
       "</div>"
      ],
      "text/plain": [
       "               FB    TWTR\n",
       "TradeDate                \n",
       "2014-05-01  82.34   15.74\n",
       "2014-05-02  54.11   12.71\n",
       "2014-05-03  45.99   10.39\n",
       "2014-05-04  45.99   10.39\n",
       "2014-05-05  45.99   10.39\n",
       "2014-05-06  55.86  134.62\n",
       "2014-05-07  78.50   68.84"
      ]
     },
     "execution_count": 31,
     "metadata": {},
     "output_type": "execute_result"
    }
   ],
   "source": [
    "socialTradingVolTSCal.fillna(method='bfill')"
   ]
  },
  {
   "cell_type": "markdown",
   "metadata": {},
   "source": [
    "D) Drop or delete missing value row"
   ]
  },
  {
   "cell_type": "code",
   "execution_count": 32,
   "metadata": {},
   "outputs": [
    {
     "data": {
      "text/html": [
       "<div>\n",
       "<style scoped>\n",
       "    .dataframe tbody tr th:only-of-type {\n",
       "        vertical-align: middle;\n",
       "    }\n",
       "\n",
       "    .dataframe tbody tr th {\n",
       "        vertical-align: top;\n",
       "    }\n",
       "\n",
       "    .dataframe thead th {\n",
       "        text-align: right;\n",
       "    }\n",
       "</style>\n",
       "<table border=\"1\" class=\"dataframe\">\n",
       "  <thead>\n",
       "    <tr style=\"text-align: right;\">\n",
       "      <th></th>\n",
       "      <th>FB</th>\n",
       "      <th>TWTR</th>\n",
       "    </tr>\n",
       "    <tr>\n",
       "      <th>TradeDate</th>\n",
       "      <th></th>\n",
       "      <th></th>\n",
       "    </tr>\n",
       "  </thead>\n",
       "  <tbody>\n",
       "    <tr>\n",
       "      <th>2014-05-01</th>\n",
       "      <td>82.34</td>\n",
       "      <td>15.74</td>\n",
       "    </tr>\n",
       "    <tr>\n",
       "      <th>2014-05-02</th>\n",
       "      <td>54.11</td>\n",
       "      <td>12.71</td>\n",
       "    </tr>\n",
       "    <tr>\n",
       "      <th>2014-05-05</th>\n",
       "      <td>45.99</td>\n",
       "      <td>10.39</td>\n",
       "    </tr>\n",
       "    <tr>\n",
       "      <th>2014-05-06</th>\n",
       "      <td>55.86</td>\n",
       "      <td>134.62</td>\n",
       "    </tr>\n",
       "    <tr>\n",
       "      <th>2014-05-07</th>\n",
       "      <td>78.50</td>\n",
       "      <td>68.84</td>\n",
       "    </tr>\n",
       "  </tbody>\n",
       "</table>\n",
       "</div>"
      ],
      "text/plain": [
       "               FB    TWTR\n",
       "TradeDate                \n",
       "2014-05-01  82.34   15.74\n",
       "2014-05-02  54.11   12.71\n",
       "2014-05-05  45.99   10.39\n",
       "2014-05-06  55.86  134.62\n",
       "2014-05-07  78.50   68.84"
      ]
     },
     "execution_count": 32,
     "metadata": {},
     "output_type": "execute_result"
    }
   ],
   "source": [
    "socialTradingVolTSCal.dropna()"
   ]
  },
  {
   "cell_type": "markdown",
   "metadata": {},
   "source": [
    "E) Interpolation"
   ]
  },
  {
   "cell_type": "code",
   "execution_count": 33,
   "metadata": {},
   "outputs": [
    {
     "data": {
      "text/html": [
       "<div>\n",
       "<style scoped>\n",
       "    .dataframe tbody tr th:only-of-type {\n",
       "        vertical-align: middle;\n",
       "    }\n",
       "\n",
       "    .dataframe tbody tr th {\n",
       "        vertical-align: top;\n",
       "    }\n",
       "\n",
       "    .dataframe thead th {\n",
       "        text-align: right;\n",
       "    }\n",
       "</style>\n",
       "<table border=\"1\" class=\"dataframe\">\n",
       "  <thead>\n",
       "    <tr style=\"text-align: right;\">\n",
       "      <th></th>\n",
       "      <th>FB</th>\n",
       "      <th>TWTR</th>\n",
       "    </tr>\n",
       "    <tr>\n",
       "      <th>TradeDate</th>\n",
       "      <th></th>\n",
       "      <th></th>\n",
       "    </tr>\n",
       "  </thead>\n",
       "  <tbody>\n",
       "    <tr>\n",
       "      <th>2014-05-01</th>\n",
       "      <td>82.3400</td>\n",
       "      <td>15.7400</td>\n",
       "    </tr>\n",
       "    <tr>\n",
       "      <th>2014-05-02</th>\n",
       "      <td>54.1100</td>\n",
       "      <td>12.7100</td>\n",
       "    </tr>\n",
       "    <tr>\n",
       "      <th>2014-05-03</th>\n",
       "      <td>51.4033</td>\n",
       "      <td>11.9367</td>\n",
       "    </tr>\n",
       "    <tr>\n",
       "      <th>2014-05-04</th>\n",
       "      <td>48.6967</td>\n",
       "      <td>11.1633</td>\n",
       "    </tr>\n",
       "    <tr>\n",
       "      <th>2014-05-05</th>\n",
       "      <td>45.9900</td>\n",
       "      <td>10.3900</td>\n",
       "    </tr>\n",
       "    <tr>\n",
       "      <th>2014-05-06</th>\n",
       "      <td>55.8600</td>\n",
       "      <td>134.6200</td>\n",
       "    </tr>\n",
       "    <tr>\n",
       "      <th>2014-05-07</th>\n",
       "      <td>78.5000</td>\n",
       "      <td>68.8400</td>\n",
       "    </tr>\n",
       "  </tbody>\n",
       "</table>\n",
       "</div>"
      ],
      "text/plain": [
       "                 FB      TWTR\n",
       "TradeDate                    \n",
       "2014-05-01  82.3400   15.7400\n",
       "2014-05-02  54.1100   12.7100\n",
       "2014-05-03  51.4033   11.9367\n",
       "2014-05-04  48.6967   11.1633\n",
       "2014-05-05  45.9900   10.3900\n",
       "2014-05-06  55.8600  134.6200\n",
       "2014-05-07  78.5000   68.8400"
      ]
     },
     "execution_count": 33,
     "metadata": {},
     "output_type": "execute_result"
    }
   ],
   "source": [
    "pd.set_option('display.precision',4)\n",
    "socialTradingVolTSCal.interpolate()"
   ]
  },
  {
   "cell_type": "markdown",
   "metadata": {},
   "source": [
    "<b style=\"color:LightSteelBlue;font-size:130%\">Handling </b><b style=\"color:DarkSlateBlue;font-size:130%\">time series</b>"
   ]
  },
  {
   "cell_type": "markdown",
   "metadata": {},
   "source": [
    "EX7: Reading in time series data"
   ]
  },
  {
   "cell_type": "markdown",
   "metadata": {},
   "source": [
    "A) Cleaning data"
   ]
  },
  {
   "cell_type": "code",
   "execution_count": 73,
   "metadata": {},
   "outputs": [
    {
     "data": {
      "text/html": [
       "<div>\n",
       "<style scoped>\n",
       "    .dataframe tbody tr th:only-of-type {\n",
       "        vertical-align: middle;\n",
       "    }\n",
       "\n",
       "    .dataframe tbody tr th {\n",
       "        vertical-align: top;\n",
       "    }\n",
       "\n",
       "    .dataframe thead th {\n",
       "        text-align: right;\n",
       "    }\n",
       "</style>\n",
       "<table border=\"1\" class=\"dataframe\">\n",
       "  <thead>\n",
       "    <tr style=\"text-align: right;\">\n",
       "      <th></th>\n",
       "      <th>TradeDate</th>\n",
       "      <th>closingPrice</th>\n",
       "    </tr>\n",
       "  </thead>\n",
       "  <tbody>\n",
       "    <tr>\n",
       "      <th>0</th>\n",
       "      <td>1959-06-29</td>\n",
       "      <td>445</td>\n",
       "    </tr>\n",
       "    <tr>\n",
       "      <th>1</th>\n",
       "      <td>1959-06-30</td>\n",
       "      <td>448</td>\n",
       "    </tr>\n",
       "    <tr>\n",
       "      <th>2</th>\n",
       "      <td>1959-07-01</td>\n",
       "      <td>450</td>\n",
       "    </tr>\n",
       "    <tr>\n",
       "      <th>3</th>\n",
       "      <td>1959-07-02</td>\n",
       "      <td>447e</td>\n",
       "    </tr>\n",
       "    <tr>\n",
       "      <th>4</th>\n",
       "      <td>1959-07-06</td>\n",
       "      <td>451</td>\n",
       "    </tr>\n",
       "  </tbody>\n",
       "</table>\n",
       "</div>"
      ],
      "text/plain": [
       "    TradeDate closingPrice\n",
       "0  1959-06-29          445\n",
       "1  1959-06-30          448\n",
       "2  1959-07-01          450\n",
       "3  1959-07-02         447e\n",
       "4  1959-07-06          451"
      ]
     },
     "execution_count": 73,
     "metadata": {},
     "output_type": "execute_result"
    }
   ],
   "source": [
    "ibmData = pd.read_csv('ibm-common-stock-closing-prices-1959_1960.csv'); ibmData.head()"
   ]
  },
  {
   "cell_type": "code",
   "execution_count": 81,
   "metadata": {},
   "outputs": [],
   "source": [
    "ibmData.loc[3,'closingPrice'] = 447\n",
    "ibmData['closingPrice'] = ibmData['closingPrice'].astype('int')"
   ]
  },
  {
   "cell_type": "markdown",
   "metadata": {},
   "source": [
    "B) String to timestamps"
   ]
  },
  {
   "cell_type": "code",
   "execution_count": 82,
   "metadata": {},
   "outputs": [
    {
     "data": {
      "text/plain": [
       "(pandas.core.series.Series, str)"
      ]
     },
     "execution_count": 82,
     "metadata": {},
     "output_type": "execute_result"
    }
   ],
   "source": [
    "type(ibmData['TradeDate']), type(ibmData['TradeDate'][0])"
   ]
  },
  {
   "cell_type": "code",
   "execution_count": 83,
   "metadata": {},
   "outputs": [
    {
     "data": {
      "text/plain": [
       "pandas._libs.tslibs.timestamps.Timestamp"
      ]
     },
     "execution_count": 83,
     "metadata": {},
     "output_type": "execute_result"
    }
   ],
   "source": [
    "ibmData['TradeDate'] = pd.to_datetime(ibmData['TradeDate'])\n",
    "type(ibmData['TradeDate'][0])"
   ]
  },
  {
   "cell_type": "markdown",
   "metadata": {},
   "source": [
    "C) Resample "
   ]
  },
  {
   "cell_type": "code",
   "execution_count": 54,
   "metadata": {},
   "outputs": [
    {
     "data": {
      "text/plain": [
       "TradeDate\n",
       "1959-06-29     445\n",
       "1959-06-30     448\n",
       "1959-07-01     450\n",
       "1959-07-02    447e\n",
       "1959-07-03       0\n",
       "              ... \n",
       "1960-06-26       0\n",
       "1960-06-27     519\n",
       "1960-06-28     519\n",
       "1960-06-29     522\n",
       "1960-06-30     522\n",
       "Freq: D, Name: closingPrice, Length: 368, dtype: object"
      ]
     },
     "execution_count": 54,
     "metadata": {},
     "output_type": "execute_result"
    }
   ],
   "source": [
    "ibmTS = ibmData.set_index('TradeDate').resample('D').sum()['closingPrice'].dropna()\n",
    "ibmTS"
   ]
  },
  {
   "cell_type": "code",
   "execution_count": 46,
   "metadata": {},
   "outputs": [
    {
     "data": {
      "text/html": [
       "<div>\n",
       "<style scoped>\n",
       "    .dataframe tbody tr th:only-of-type {\n",
       "        vertical-align: middle;\n",
       "    }\n",
       "\n",
       "    .dataframe tbody tr th {\n",
       "        vertical-align: top;\n",
       "    }\n",
       "\n",
       "    .dataframe thead th {\n",
       "        text-align: right;\n",
       "    }\n",
       "</style>\n",
       "<table border=\"1\" class=\"dataframe\">\n",
       "  <thead>\n",
       "    <tr style=\"text-align: right;\">\n",
       "      <th></th>\n",
       "      <th>closingPrice</th>\n",
       "    </tr>\n",
       "    <tr>\n",
       "      <th>TradeDate</th>\n",
       "      <th></th>\n",
       "    </tr>\n",
       "  </thead>\n",
       "  <tbody>\n",
       "    <tr>\n",
       "      <th>1959-06-29</th>\n",
       "      <td>445</td>\n",
       "    </tr>\n",
       "    <tr>\n",
       "      <th>1959-06-30</th>\n",
       "      <td>448</td>\n",
       "    </tr>\n",
       "    <tr>\n",
       "      <th>1959-07-01</th>\n",
       "      <td>450</td>\n",
       "    </tr>\n",
       "    <tr>\n",
       "      <th>1959-07-02</th>\n",
       "      <td>447e</td>\n",
       "    </tr>\n",
       "    <tr>\n",
       "      <th>1959-07-06</th>\n",
       "      <td>451</td>\n",
       "    </tr>\n",
       "    <tr>\n",
       "      <th>...</th>\n",
       "      <td>...</td>\n",
       "    </tr>\n",
       "    <tr>\n",
       "      <th>1960-06-24</th>\n",
       "      <td>525</td>\n",
       "    </tr>\n",
       "    <tr>\n",
       "      <th>1960-06-27</th>\n",
       "      <td>519</td>\n",
       "    </tr>\n",
       "    <tr>\n",
       "      <th>1960-06-28</th>\n",
       "      <td>519</td>\n",
       "    </tr>\n",
       "    <tr>\n",
       "      <th>1960-06-29</th>\n",
       "      <td>522</td>\n",
       "    </tr>\n",
       "    <tr>\n",
       "      <th>1960-06-30</th>\n",
       "      <td>522</td>\n",
       "    </tr>\n",
       "  </tbody>\n",
       "</table>\n",
       "<p>255 rows × 1 columns</p>\n",
       "</div>"
      ],
      "text/plain": [
       "           closingPrice\n",
       "TradeDate              \n",
       "1959-06-29          445\n",
       "1959-06-30          448\n",
       "1959-07-01          450\n",
       "1959-07-02         447e\n",
       "1959-07-06          451\n",
       "...                 ...\n",
       "1960-06-24          525\n",
       "1960-06-27          519\n",
       "1960-06-28          519\n",
       "1960-06-29          522\n",
       "1960-06-30          522\n",
       "\n",
       "[255 rows x 1 columns]"
      ]
     },
     "execution_count": 46,
     "metadata": {},
     "output_type": "execute_result"
    }
   ],
   "source": [
    "ibmData['TradeDate'] = pd.to_datetime(ibmData['TradeDate'])\n",
    "ibmData.set_index('TradeDate')"
   ]
  },
  {
   "cell_type": "markdown",
   "metadata": {},
   "source": [
    "EX8: DateOffset and TimeDelta objects\n",
    "<p>A DateOffset object represents a change or offset in time. The key features of a DateOffset object are as follows:\n",
    "<li>This can be added/subtracted to/from a datetime object to obtain a shifted date\n",
    "<li>This can be multiplied by an integer (positive or negative) so that the increment can be applied multiple times\n",
    "<li>This has the rollforward and rollback methods to move a date forward to the next offset date or backward to the previous offset date\n",
    "    </li>\n",
    "    </p>"
   ]
  },
  {
   "cell_type": "code",
   "execution_count": 84,
   "metadata": {},
   "outputs": [],
   "source": [
    "from datetime import datetime"
   ]
  },
  {
   "cell_type": "markdown",
   "metadata": {},
   "source": [
    "A) One day from Xmas "
   ]
  },
  {
   "cell_type": "code",
   "execution_count": 88,
   "metadata": {},
   "outputs": [
    {
     "data": {
      "text/plain": [
       "Timestamp('2014-12-26 00:00:00')"
      ]
     },
     "execution_count": 88,
     "metadata": {},
     "output_type": "execute_result"
    }
   ],
   "source": [
    "xmasDay = datetime(2014,12,25)\n",
    "boxingDay = xmasDay + pd.DateOffset(days=1); boxingDay"
   ]
  },
  {
   "cell_type": "markdown",
   "metadata": {},
   "source": [
    "B) One week from today"
   ]
  },
  {
   "cell_type": "code",
   "execution_count": 89,
   "metadata": {},
   "outputs": [
    {
     "data": {
      "text/plain": [
       "Timestamp('2021-01-20 01:29:13.553811')"
      ]
     },
     "execution_count": 89,
     "metadata": {},
     "output_type": "execute_result"
    }
   ],
   "source": [
    "today = datetime.now()\n",
    "today + pd.DateOffset(weeks=1)"
   ]
  },
  {
   "cell_type": "markdown",
   "metadata": {},
   "source": [
    "C) Five years from now"
   ]
  },
  {
   "cell_type": "code",
   "execution_count": 90,
   "metadata": {},
   "outputs": [
    {
     "data": {
      "text/plain": [
       "Timestamp('2026-01-13 01:29:13.553811')"
      ]
     },
     "execution_count": 90,
     "metadata": {},
     "output_type": "execute_result"
    }
   ],
   "source": [
    "today + 2*pd.DateOffset(years=2, months=6)"
   ]
  },
  {
   "cell_type": "markdown",
   "metadata": {},
   "source": [
    "D) QuarterBegin \n",
    "<p>DateOffset object that is used to increment a given datetime object to the start of the next calendar quarter:"
   ]
  },
  {
   "cell_type": "code",
   "execution_count": 91,
   "metadata": {},
   "outputs": [],
   "source": [
    "from pandas.tseries.offsets import QuarterBegin"
   ]
  },
  {
   "cell_type": "code",
   "execution_count": 93,
   "metadata": {},
   "outputs": [
    {
     "data": {
      "text/plain": [
       "Timestamp('2014-03-01 00:00:00')"
      ]
     },
     "execution_count": 93,
     "metadata": {},
     "output_type": "execute_result"
    }
   ],
   "source": [
    "lastDay = datetime(2013,12,31)\n",
    "dtoffset = QuarterBegin()\n",
    "lastDay + dtoffset"
   ]
  },
  {
   "cell_type": "code",
   "execution_count": 95,
   "metadata": {},
   "outputs": [
    {
     "data": {
      "text/plain": [
       "Timestamp('2014-03-01 00:00:00')"
      ]
     },
     "execution_count": 95,
     "metadata": {},
     "output_type": "execute_result"
    }
   ],
   "source": [
    "dtoffset.rollforward(lastDay)"
   ]
  },
  {
   "cell_type": "markdown",
   "metadata": {},
   "source": [
    "E) timedelta "
   ]
  },
  {
   "cell_type": "code",
   "execution_count": 100,
   "metadata": {},
   "outputs": [
    {
     "data": {
      "text/plain": [
       "datetime.timedelta(days=7)"
      ]
     },
     "execution_count": 100,
     "metadata": {},
     "output_type": "execute_result"
    }
   ],
   "source": [
    "from datetime import timedelta\n",
    "weekDelta = timedelta(weeks=1); weekDelta"
   ]
  },
  {
   "cell_type": "code",
   "execution_count": 101,
   "metadata": {},
   "outputs": [
    {
     "data": {
      "text/plain": [
       "datetime.datetime(2021, 1, 20, 1, 29, 13, 553811)"
      ]
     },
     "execution_count": 101,
     "metadata": {},
     "output_type": "execute_result"
    }
   ],
   "source": [
    "today + weekDelta"
   ]
  },
  {
   "cell_type": "markdown",
   "metadata": {},
   "source": [
    "EX9: Time series-related instance methods"
   ]
  },
  {
   "cell_type": "markdown",
   "metadata": {},
   "source": [
    "A) Shifting/lagging"
   ]
  },
  {
   "cell_type": "code",
   "execution_count": 119,
   "metadata": {},
   "outputs": [
    {
     "data": {
      "text/plain": [
       "TradeDate\n",
       "1959-06-29     445\n",
       "1959-06-30     448\n",
       "1959-07-01     450\n",
       "1959-07-02    447e\n",
       "1959-07-03       0\n",
       "              ... \n",
       "1960-06-26       0\n",
       "1960-06-27     519\n",
       "1960-06-28     519\n",
       "1960-06-29     522\n",
       "1960-06-30     522\n",
       "Freq: D, Name: closingPrice, Length: 368, dtype: object"
      ]
     },
     "execution_count": 119,
     "metadata": {},
     "output_type": "execute_result"
    }
   ],
   "source": [
    "ibmTS"
   ]
  },
  {
   "cell_type": "code",
   "execution_count": 102,
   "metadata": {},
   "outputs": [
    {
     "data": {
      "text/plain": [
       "TradeDate\n",
       "1959-06-29    NaN\n",
       "1959-06-30    NaN\n",
       "1959-07-01    NaN\n",
       "1959-07-02    445\n",
       "1959-07-03    448\n",
       "             ... \n",
       "1960-06-26    513\n",
       "1960-06-27    525\n",
       "1960-06-28      0\n",
       "1960-06-29      0\n",
       "1960-06-30    519\n",
       "Freq: D, Name: closingPrice, Length: 368, dtype: object"
      ]
     },
     "execution_count": 102,
     "metadata": {},
     "output_type": "execute_result"
    }
   ],
   "source": [
    "ibmTS.shift(3)"
   ]
  },
  {
   "cell_type": "code",
   "execution_count": 121,
   "metadata": {},
   "outputs": [
    {
     "data": {
      "text/plain": [
       "TradeDate\n",
       "1959-07-02     445\n",
       "1959-07-03     448\n",
       "1959-07-06     450\n",
       "1959-07-07    447e\n",
       "1959-07-08       0\n",
       "              ... \n",
       "1960-06-29       0\n",
       "1960-06-30     519\n",
       "1960-07-01     519\n",
       "1960-07-04     522\n",
       "1960-07-05     522\n",
       "Name: closingPrice, Length: 368, dtype: object"
      ]
     },
     "execution_count": 121,
     "metadata": {},
     "output_type": "execute_result"
    }
   ],
   "source": [
    "ibmTS.shift(3, freq='B')"
   ]
  },
  {
   "cell_type": "markdown",
   "metadata": {},
   "source": [
    "B) Frequency conversion\n",
    "<p> note: Here, bm stands for business month end frequency."
   ]
  },
  {
   "cell_type": "code",
   "execution_count": 122,
   "metadata": {},
   "outputs": [
    {
     "data": {
      "text/plain": [
       "TradeDate\n",
       "1959-06-30    448\n",
       "1959-07-31    428\n",
       "1959-08-31    425\n",
       "1959-09-30    411\n",
       "1959-10-30    411\n",
       "1959-11-30    428\n",
       "1959-12-31    439\n",
       "1960-01-29    418\n",
       "1960-02-29    419\n",
       "1960-03-31    445\n",
       "1960-04-29    453\n",
       "1960-05-31    504\n",
       "1960-06-30    522\n",
       "Freq: BM, Name: closingPrice, dtype: object"
      ]
     },
     "execution_count": 122,
     "metadata": {},
     "output_type": "execute_result"
    }
   ],
   "source": [
    "ibmTS.asfreq('BM')"
   ]
  },
  {
   "cell_type": "code",
   "execution_count": 123,
   "metadata": {},
   "outputs": [
    {
     "data": {
      "text/plain": [
       "TradeDate\n",
       "1959-06-29 00:00:00    445\n",
       "1959-06-29 01:00:00    NaN\n",
       "1959-06-29 02:00:00    NaN\n",
       "1959-06-29 03:00:00    NaN\n",
       "1959-06-29 04:00:00    NaN\n",
       "                      ... \n",
       "1960-06-29 20:00:00    NaN\n",
       "1960-06-29 21:00:00    NaN\n",
       "1960-06-29 22:00:00    NaN\n",
       "1960-06-29 23:00:00    NaN\n",
       "1960-06-30 00:00:00    522\n",
       "Freq: H, Name: closingPrice, Length: 8809, dtype: object"
      ]
     },
     "execution_count": 123,
     "metadata": {},
     "output_type": "execute_result"
    }
   ],
   "source": [
    "ibmTS.asfreq('H')"
   ]
  },
  {
   "cell_type": "code",
   "execution_count": 124,
   "metadata": {},
   "outputs": [
    {
     "data": {
      "text/plain": [
       "TradeDate\n",
       "1959-06-29 00:00:00    445\n",
       "1959-06-29 01:00:00    445\n",
       "1959-06-29 02:00:00    445\n",
       "1959-06-29 03:00:00    445\n",
       "1959-06-29 04:00:00    445\n",
       "                      ... \n",
       "1960-06-29 20:00:00    522\n",
       "1960-06-29 21:00:00    522\n",
       "1960-06-29 22:00:00    522\n",
       "1960-06-29 23:00:00    522\n",
       "1960-06-30 00:00:00    522\n",
       "Freq: H, Name: closingPrice, Length: 8809, dtype: object"
      ]
     },
     "execution_count": 124,
     "metadata": {},
     "output_type": "execute_result"
    }
   ],
   "source": [
    "ibmTS.asfreq('H', method='ffill')"
   ]
  },
  {
   "cell_type": "markdown",
   "metadata": {},
   "source": [
    "EX10: Resampling of data"
   ]
  },
  {
   "cell_type": "code",
   "execution_count": 125,
   "metadata": {},
   "outputs": [
    {
     "data": {
      "text/html": [
       "<div>\n",
       "<style scoped>\n",
       "    .dataframe tbody tr th:only-of-type {\n",
       "        vertical-align: middle;\n",
       "    }\n",
       "\n",
       "    .dataframe tbody tr th {\n",
       "        vertical-align: top;\n",
       "    }\n",
       "\n",
       "    .dataframe thead th {\n",
       "        text-align: right;\n",
       "    }\n",
       "</style>\n",
       "<table border=\"1\" class=\"dataframe\">\n",
       "  <thead>\n",
       "    <tr style=\"text-align: right;\">\n",
       "      <th></th>\n",
       "      <th>Timestamp</th>\n",
       "      <th>close</th>\n",
       "      <th>high</th>\n",
       "      <th>low</th>\n",
       "      <th>open</th>\n",
       "      <th>volume</th>\n",
       "    </tr>\n",
       "  </thead>\n",
       "  <tbody>\n",
       "    <tr>\n",
       "      <th>0</th>\n",
       "      <td>1401197402</td>\n",
       "      <td>555.008</td>\n",
       "      <td>556.41</td>\n",
       "      <td>554.35</td>\n",
       "      <td>556.38</td>\n",
       "      <td>81100</td>\n",
       "    </tr>\n",
       "    <tr>\n",
       "      <th>1</th>\n",
       "      <td>1401197460</td>\n",
       "      <td>556.250</td>\n",
       "      <td>556.30</td>\n",
       "      <td>555.25</td>\n",
       "      <td>555.25</td>\n",
       "      <td>18500</td>\n",
       "    </tr>\n",
       "    <tr>\n",
       "      <th>2</th>\n",
       "      <td>1401197526</td>\n",
       "      <td>556.730</td>\n",
       "      <td>556.75</td>\n",
       "      <td>556.05</td>\n",
       "      <td>556.39</td>\n",
       "      <td>9900</td>\n",
       "    </tr>\n",
       "    <tr>\n",
       "      <th>3</th>\n",
       "      <td>1401197582</td>\n",
       "      <td>557.480</td>\n",
       "      <td>557.67</td>\n",
       "      <td>556.73</td>\n",
       "      <td>556.73</td>\n",
       "      <td>14700</td>\n",
       "    </tr>\n",
       "    <tr>\n",
       "      <th>4</th>\n",
       "      <td>1401197642</td>\n",
       "      <td>558.155</td>\n",
       "      <td>558.66</td>\n",
       "      <td>557.48</td>\n",
       "      <td>557.59</td>\n",
       "      <td>15700</td>\n",
       "    </tr>\n",
       "  </tbody>\n",
       "</table>\n",
       "</div>"
      ],
      "text/plain": [
       "    Timestamp    close    high     low    open  volume\n",
       "0  1401197402  555.008  556.41  554.35  556.38   81100\n",
       "1  1401197460  556.250  556.30  555.25  555.25   18500\n",
       "2  1401197526  556.730  556.75  556.05  556.39    9900\n",
       "3  1401197582  557.480  557.67  556.73  556.73   14700\n",
       "4  1401197642  558.155  558.66  557.48  557.59   15700"
      ]
     },
     "execution_count": 125,
     "metadata": {},
     "output_type": "execute_result"
    }
   ],
   "source": [
    "googTickData = pd.read_csv('./GOOG_tickdata_20140527.csv'); googTickData.head()"
   ]
  },
  {
   "cell_type": "code",
   "execution_count": 112,
   "metadata": {},
   "outputs": [
    {
     "data": {
      "text/html": [
       "<div>\n",
       "<style scoped>\n",
       "    .dataframe tbody tr th:only-of-type {\n",
       "        vertical-align: middle;\n",
       "    }\n",
       "\n",
       "    .dataframe tbody tr th {\n",
       "        vertical-align: top;\n",
       "    }\n",
       "\n",
       "    .dataframe thead th {\n",
       "        text-align: right;\n",
       "    }\n",
       "</style>\n",
       "<table border=\"1\" class=\"dataframe\">\n",
       "  <thead>\n",
       "    <tr style=\"text-align: right;\">\n",
       "      <th></th>\n",
       "      <th>Timestamp</th>\n",
       "      <th>close</th>\n",
       "      <th>high</th>\n",
       "      <th>low</th>\n",
       "      <th>open</th>\n",
       "      <th>volume</th>\n",
       "      <th>tstamp</th>\n",
       "    </tr>\n",
       "  </thead>\n",
       "  <tbody>\n",
       "    <tr>\n",
       "      <th>0</th>\n",
       "      <td>1401197402</td>\n",
       "      <td>555.008</td>\n",
       "      <td>556.41</td>\n",
       "      <td>554.35</td>\n",
       "      <td>556.38</td>\n",
       "      <td>81100</td>\n",
       "      <td>2014-05-27 13:30:02+00:00</td>\n",
       "    </tr>\n",
       "    <tr>\n",
       "      <th>1</th>\n",
       "      <td>1401197460</td>\n",
       "      <td>556.250</td>\n",
       "      <td>556.30</td>\n",
       "      <td>555.25</td>\n",
       "      <td>555.25</td>\n",
       "      <td>18500</td>\n",
       "      <td>2014-05-27 13:31:00+00:00</td>\n",
       "    </tr>\n",
       "    <tr>\n",
       "      <th>2</th>\n",
       "      <td>1401197526</td>\n",
       "      <td>556.730</td>\n",
       "      <td>556.75</td>\n",
       "      <td>556.05</td>\n",
       "      <td>556.39</td>\n",
       "      <td>9900</td>\n",
       "      <td>2014-05-27 13:32:06+00:00</td>\n",
       "    </tr>\n",
       "    <tr>\n",
       "      <th>3</th>\n",
       "      <td>1401197582</td>\n",
       "      <td>557.480</td>\n",
       "      <td>557.67</td>\n",
       "      <td>556.73</td>\n",
       "      <td>556.73</td>\n",
       "      <td>14700</td>\n",
       "      <td>2014-05-27 13:33:02+00:00</td>\n",
       "    </tr>\n",
       "    <tr>\n",
       "      <th>4</th>\n",
       "      <td>1401197642</td>\n",
       "      <td>558.155</td>\n",
       "      <td>558.66</td>\n",
       "      <td>557.48</td>\n",
       "      <td>557.59</td>\n",
       "      <td>15700</td>\n",
       "      <td>2014-05-27 13:34:02+00:00</td>\n",
       "    </tr>\n",
       "  </tbody>\n",
       "</table>\n",
       "</div>"
      ],
      "text/plain": [
       "    Timestamp    close    high     low    open  volume  \\\n",
       "0  1401197402  555.008  556.41  554.35  556.38   81100   \n",
       "1  1401197460  556.250  556.30  555.25  555.25   18500   \n",
       "2  1401197526  556.730  556.75  556.05  556.39    9900   \n",
       "3  1401197582  557.480  557.67  556.73  556.73   14700   \n",
       "4  1401197642  558.155  558.66  557.48  557.59   15700   \n",
       "\n",
       "                     tstamp  \n",
       "0 2014-05-27 13:30:02+00:00  \n",
       "1 2014-05-27 13:31:00+00:00  \n",
       "2 2014-05-27 13:32:06+00:00  \n",
       "3 2014-05-27 13:33:02+00:00  \n",
       "4 2014-05-27 13:34:02+00:00  "
      ]
     },
     "execution_count": 112,
     "metadata": {},
     "output_type": "execute_result"
    }
   ],
   "source": [
    "googTickData['tstamp'] = pd.to_datetime(googTickData['Timestamp'],unit='s',utc=True)\n",
    "googTickData.head()"
   ]
  },
  {
   "cell_type": "markdown",
   "metadata": {},
   "source": [
    "EX11: Timezone"
   ]
  },
  {
   "cell_type": "code",
   "execution_count": 113,
   "metadata": {},
   "outputs": [
    {
     "data": {
      "text/html": [
       "<div>\n",
       "<style scoped>\n",
       "    .dataframe tbody tr th:only-of-type {\n",
       "        vertical-align: middle;\n",
       "    }\n",
       "\n",
       "    .dataframe tbody tr th {\n",
       "        vertical-align: top;\n",
       "    }\n",
       "\n",
       "    .dataframe thead th {\n",
       "        text-align: right;\n",
       "    }\n",
       "</style>\n",
       "<table border=\"1\" class=\"dataframe\">\n",
       "  <thead>\n",
       "    <tr style=\"text-align: right;\">\n",
       "      <th></th>\n",
       "      <th>close</th>\n",
       "      <th>high</th>\n",
       "      <th>low</th>\n",
       "      <th>open</th>\n",
       "      <th>volume</th>\n",
       "    </tr>\n",
       "    <tr>\n",
       "      <th>tstamp</th>\n",
       "      <th></th>\n",
       "      <th></th>\n",
       "      <th></th>\n",
       "      <th></th>\n",
       "      <th></th>\n",
       "    </tr>\n",
       "  </thead>\n",
       "  <tbody>\n",
       "    <tr>\n",
       "      <th>2014-05-27 13:30:02+00:00</th>\n",
       "      <td>555.008</td>\n",
       "      <td>556.41</td>\n",
       "      <td>554.35</td>\n",
       "      <td>556.38</td>\n",
       "      <td>81100</td>\n",
       "    </tr>\n",
       "    <tr>\n",
       "      <th>2014-05-27 13:31:00+00:00</th>\n",
       "      <td>556.250</td>\n",
       "      <td>556.30</td>\n",
       "      <td>555.25</td>\n",
       "      <td>555.25</td>\n",
       "      <td>18500</td>\n",
       "    </tr>\n",
       "    <tr>\n",
       "      <th>2014-05-27 13:32:06+00:00</th>\n",
       "      <td>556.730</td>\n",
       "      <td>556.75</td>\n",
       "      <td>556.05</td>\n",
       "      <td>556.39</td>\n",
       "      <td>9900</td>\n",
       "    </tr>\n",
       "    <tr>\n",
       "      <th>2014-05-27 13:33:02+00:00</th>\n",
       "      <td>557.480</td>\n",
       "      <td>557.67</td>\n",
       "      <td>556.73</td>\n",
       "      <td>556.73</td>\n",
       "      <td>14700</td>\n",
       "    </tr>\n",
       "    <tr>\n",
       "      <th>2014-05-27 13:34:02+00:00</th>\n",
       "      <td>558.155</td>\n",
       "      <td>558.66</td>\n",
       "      <td>557.48</td>\n",
       "      <td>557.59</td>\n",
       "      <td>15700</td>\n",
       "    </tr>\n",
       "  </tbody>\n",
       "</table>\n",
       "</div>"
      ],
      "text/plain": [
       "                             close    high     low    open  volume\n",
       "tstamp                                                            \n",
       "2014-05-27 13:30:02+00:00  555.008  556.41  554.35  556.38   81100\n",
       "2014-05-27 13:31:00+00:00  556.250  556.30  555.25  555.25   18500\n",
       "2014-05-27 13:32:06+00:00  556.730  556.75  556.05  556.39    9900\n",
       "2014-05-27 13:33:02+00:00  557.480  557.67  556.73  556.73   14700\n",
       "2014-05-27 13:34:02+00:00  558.155  558.66  557.48  557.59   15700"
      ]
     },
     "execution_count": 113,
     "metadata": {},
     "output_type": "execute_result"
    }
   ],
   "source": [
    "googTickTS = googTickData.set_index('tstamp')\n",
    "googTickTS = googTickTS.drop('Timestamp',axis=1)\n",
    "googTickTS.head()"
   ]
  },
  {
   "cell_type": "markdown",
   "metadata": {},
   "source": [
    "trading day—from 9:30 a.m., when the stock market opens, until 4:00 p.m., when it closes."
   ]
  },
  {
   "cell_type": "code",
   "execution_count": 127,
   "metadata": {},
   "outputs": [
    {
     "data": {
      "text/html": [
       "<div>\n",
       "<style scoped>\n",
       "    .dataframe tbody tr th:only-of-type {\n",
       "        vertical-align: middle;\n",
       "    }\n",
       "\n",
       "    .dataframe tbody tr th {\n",
       "        vertical-align: top;\n",
       "    }\n",
       "\n",
       "    .dataframe thead th {\n",
       "        text-align: right;\n",
       "    }\n",
       "</style>\n",
       "<table border=\"1\" class=\"dataframe\">\n",
       "  <thead>\n",
       "    <tr style=\"text-align: right;\">\n",
       "      <th></th>\n",
       "      <th>close</th>\n",
       "      <th>high</th>\n",
       "      <th>low</th>\n",
       "      <th>open</th>\n",
       "      <th>volume</th>\n",
       "    </tr>\n",
       "    <tr>\n",
       "      <th>tstamp</th>\n",
       "      <th></th>\n",
       "      <th></th>\n",
       "      <th></th>\n",
       "      <th></th>\n",
       "      <th></th>\n",
       "    </tr>\n",
       "  </thead>\n",
       "  <tbody>\n",
       "    <tr>\n",
       "      <th>2014-05-27 09:30:02-04:00</th>\n",
       "      <td>555.008</td>\n",
       "      <td>556.41</td>\n",
       "      <td>554.35</td>\n",
       "      <td>556.38</td>\n",
       "      <td>81100</td>\n",
       "    </tr>\n",
       "    <tr>\n",
       "      <th>2014-05-27 09:31:00-04:00</th>\n",
       "      <td>556.250</td>\n",
       "      <td>556.30</td>\n",
       "      <td>555.25</td>\n",
       "      <td>555.25</td>\n",
       "      <td>18500</td>\n",
       "    </tr>\n",
       "    <tr>\n",
       "      <th>2014-05-27 09:32:06-04:00</th>\n",
       "      <td>556.730</td>\n",
       "      <td>556.75</td>\n",
       "      <td>556.05</td>\n",
       "      <td>556.39</td>\n",
       "      <td>9900</td>\n",
       "    </tr>\n",
       "    <tr>\n",
       "      <th>2014-05-27 09:33:02-04:00</th>\n",
       "      <td>557.480</td>\n",
       "      <td>557.67</td>\n",
       "      <td>556.73</td>\n",
       "      <td>556.73</td>\n",
       "      <td>14700</td>\n",
       "    </tr>\n",
       "    <tr>\n",
       "      <th>2014-05-27 09:34:02-04:00</th>\n",
       "      <td>558.155</td>\n",
       "      <td>558.66</td>\n",
       "      <td>557.48</td>\n",
       "      <td>557.59</td>\n",
       "      <td>15700</td>\n",
       "    </tr>\n",
       "  </tbody>\n",
       "</table>\n",
       "</div>"
      ],
      "text/plain": [
       "                             close    high     low    open  volume\n",
       "tstamp                                                            \n",
       "2014-05-27 09:30:02-04:00  555.008  556.41  554.35  556.38   81100\n",
       "2014-05-27 09:31:00-04:00  556.250  556.30  555.25  555.25   18500\n",
       "2014-05-27 09:32:06-04:00  556.730  556.75  556.05  556.39    9900\n",
       "2014-05-27 09:33:02-04:00  557.480  557.67  556.73  556.73   14700\n",
       "2014-05-27 09:34:02-04:00  558.155  558.66  557.48  557.59   15700"
      ]
     },
     "execution_count": 127,
     "metadata": {},
     "output_type": "execute_result"
    }
   ],
   "source": [
    "googTickTS.index = googTickTS.index.tz_convert('US/Eastern')\n",
    "googTickTS.head()"
   ]
  },
  {
   "cell_type": "code",
   "execution_count": 129,
   "metadata": {},
   "outputs": [
    {
     "data": {
      "text/html": [
       "<div>\n",
       "<style scoped>\n",
       "    .dataframe tbody tr th:only-of-type {\n",
       "        vertical-align: middle;\n",
       "    }\n",
       "\n",
       "    .dataframe tbody tr th {\n",
       "        vertical-align: top;\n",
       "    }\n",
       "\n",
       "    .dataframe thead th {\n",
       "        text-align: right;\n",
       "    }\n",
       "</style>\n",
       "<table border=\"1\" class=\"dataframe\">\n",
       "  <thead>\n",
       "    <tr style=\"text-align: right;\">\n",
       "      <th></th>\n",
       "      <th>close</th>\n",
       "      <th>high</th>\n",
       "      <th>low</th>\n",
       "      <th>open</th>\n",
       "      <th>volume</th>\n",
       "    </tr>\n",
       "    <tr>\n",
       "      <th>tstamp</th>\n",
       "      <th></th>\n",
       "      <th></th>\n",
       "      <th></th>\n",
       "      <th></th>\n",
       "      <th></th>\n",
       "    </tr>\n",
       "  </thead>\n",
       "  <tbody>\n",
       "    <tr>\n",
       "      <th>2014-05-27 15:56:00-04:00</th>\n",
       "      <td>565.4300</td>\n",
       "      <td>565.48</td>\n",
       "      <td>565.30</td>\n",
       "      <td>565.385</td>\n",
       "      <td>14300</td>\n",
       "    </tr>\n",
       "    <tr>\n",
       "      <th>2014-05-27 15:57:00-04:00</th>\n",
       "      <td>565.3050</td>\n",
       "      <td>565.46</td>\n",
       "      <td>565.20</td>\n",
       "      <td>565.400</td>\n",
       "      <td>14700</td>\n",
       "    </tr>\n",
       "    <tr>\n",
       "      <th>2014-05-27 15:58:00-04:00</th>\n",
       "      <td>565.1101</td>\n",
       "      <td>565.31</td>\n",
       "      <td>565.10</td>\n",
       "      <td>565.310</td>\n",
       "      <td>23200</td>\n",
       "    </tr>\n",
       "    <tr>\n",
       "      <th>2014-05-27 15:59:00-04:00</th>\n",
       "      <td>565.9400</td>\n",
       "      <td>566.00</td>\n",
       "      <td>565.08</td>\n",
       "      <td>565.230</td>\n",
       "      <td>55600</td>\n",
       "    </tr>\n",
       "    <tr>\n",
       "      <th>2014-05-27 16:00:00-04:00</th>\n",
       "      <td>565.9500</td>\n",
       "      <td>565.95</td>\n",
       "      <td>565.95</td>\n",
       "      <td>565.950</td>\n",
       "      <td>126000</td>\n",
       "    </tr>\n",
       "  </tbody>\n",
       "</table>\n",
       "</div>"
      ],
      "text/plain": [
       "                              close    high     low     open  volume\n",
       "tstamp                                                              \n",
       "2014-05-27 15:56:00-04:00  565.4300  565.48  565.30  565.385   14300\n",
       "2014-05-27 15:57:00-04:00  565.3050  565.46  565.20  565.400   14700\n",
       "2014-05-27 15:58:00-04:00  565.1101  565.31  565.10  565.310   23200\n",
       "2014-05-27 15:59:00-04:00  565.9400  566.00  565.08  565.230   55600\n",
       "2014-05-27 16:00:00-04:00  565.9500  565.95  565.95  565.950  126000"
      ]
     },
     "execution_count": 129,
     "metadata": {},
     "output_type": "execute_result"
    }
   ],
   "source": [
    "googTickTS.tail()"
   ]
  },
  {
   "cell_type": "code",
   "execution_count": 128,
   "metadata": {},
   "outputs": [
    {
     "data": {
      "text/plain": [
       "390"
      ]
     },
     "execution_count": 128,
     "metadata": {},
     "output_type": "execute_result"
    }
   ],
   "source": [
    "len(googTickTS)"
   ]
  },
  {
   "cell_type": "markdown",
   "metadata": {},
   "source": [
    "EX12: Snapshot every time horizon periods"
   ]
  },
  {
   "cell_type": "code",
   "execution_count": 159,
   "metadata": {},
   "outputs": [
    {
     "data": {
      "text/html": [
       "<div>\n",
       "<style scoped>\n",
       "    .dataframe tbody tr th:only-of-type {\n",
       "        vertical-align: middle;\n",
       "    }\n",
       "\n",
       "    .dataframe tbody tr th {\n",
       "        vertical-align: top;\n",
       "    }\n",
       "\n",
       "    .dataframe thead th {\n",
       "        text-align: right;\n",
       "    }\n",
       "</style>\n",
       "<table border=\"1\" class=\"dataframe\">\n",
       "  <thead>\n",
       "    <tr style=\"text-align: right;\">\n",
       "      <th></th>\n",
       "      <th>close</th>\n",
       "      <th>high</th>\n",
       "      <th>low</th>\n",
       "      <th>open</th>\n",
       "      <th>volume</th>\n",
       "    </tr>\n",
       "    <tr>\n",
       "      <th>tstamp</th>\n",
       "      <th></th>\n",
       "      <th></th>\n",
       "      <th></th>\n",
       "      <th></th>\n",
       "      <th></th>\n",
       "    </tr>\n",
       "  </thead>\n",
       "  <tbody>\n",
       "    <tr>\n",
       "      <th>2014-05-27 09:30:00-04:00</th>\n",
       "      <td>2783.6230</td>\n",
       "      <td>2785.7900</td>\n",
       "      <td>2779.860</td>\n",
       "      <td>2782.3400</td>\n",
       "      <td>139900</td>\n",
       "    </tr>\n",
       "    <tr>\n",
       "      <th>2014-05-27 09:35:00-04:00</th>\n",
       "      <td>2784.6824</td>\n",
       "      <td>2788.2400</td>\n",
       "      <td>2784.255</td>\n",
       "      <td>2786.7100</td>\n",
       "      <td>123100</td>\n",
       "    </tr>\n",
       "    <tr>\n",
       "      <th>2014-05-27 09:40:00-04:00</th>\n",
       "      <td>2782.4300</td>\n",
       "      <td>2783.9997</td>\n",
       "      <td>2781.385</td>\n",
       "      <td>2783.0339</td>\n",
       "      <td>43100</td>\n",
       "    </tr>\n",
       "    <tr>\n",
       "      <th>2014-05-27 09:45:00-04:00</th>\n",
       "      <td>2785.2650</td>\n",
       "      <td>2786.3800</td>\n",
       "      <td>2783.690</td>\n",
       "      <td>2784.8300</td>\n",
       "      <td>48600</td>\n",
       "    </tr>\n",
       "    <tr>\n",
       "      <th>2014-05-27 09:50:00-04:00</th>\n",
       "      <td>2783.3100</td>\n",
       "      <td>2784.6798</td>\n",
       "      <td>2782.320</td>\n",
       "      <td>2784.0163</td>\n",
       "      <td>72800</td>\n",
       "    </tr>\n",
       "  </tbody>\n",
       "</table>\n",
       "</div>"
      ],
      "text/plain": [
       "                               close       high       low       open  volume\n",
       "tstamp                                                                      \n",
       "2014-05-27 09:30:00-04:00  2783.6230  2785.7900  2779.860  2782.3400  139900\n",
       "2014-05-27 09:35:00-04:00  2784.6824  2788.2400  2784.255  2786.7100  123100\n",
       "2014-05-27 09:40:00-04:00  2782.4300  2783.9997  2781.385  2783.0339   43100\n",
       "2014-05-27 09:45:00-04:00  2785.2650  2786.3800  2783.690  2784.8300   48600\n",
       "2014-05-27 09:50:00-04:00  2783.3100  2784.6798  2782.320  2784.0163   72800"
      ]
     },
     "execution_count": 159,
     "metadata": {},
     "output_type": "execute_result"
    }
   ],
   "source": [
    "googTickTS5 =  googTickTS.resample('5Min').sum(); googTickTS5.head()"
   ]
  },
  {
   "cell_type": "code",
   "execution_count": 161,
   "metadata": {},
   "outputs": [
    {
     "data": {
      "text/html": [
       "<div>\n",
       "<style scoped>\n",
       "    .dataframe tbody tr th:only-of-type {\n",
       "        vertical-align: middle;\n",
       "    }\n",
       "\n",
       "    .dataframe tbody tr th {\n",
       "        vertical-align: top;\n",
       "    }\n",
       "\n",
       "    .dataframe thead th {\n",
       "        text-align: right;\n",
       "    }\n",
       "</style>\n",
       "<table border=\"1\" class=\"dataframe\">\n",
       "  <thead>\n",
       "    <tr style=\"text-align: right;\">\n",
       "      <th></th>\n",
       "      <th>close</th>\n",
       "      <th>high</th>\n",
       "      <th>low</th>\n",
       "      <th>open</th>\n",
       "      <th>volume</th>\n",
       "    </tr>\n",
       "    <tr>\n",
       "      <th>tstamp</th>\n",
       "      <th></th>\n",
       "      <th></th>\n",
       "      <th></th>\n",
       "      <th></th>\n",
       "      <th></th>\n",
       "    </tr>\n",
       "  </thead>\n",
       "  <tbody>\n",
       "    <tr>\n",
       "      <th>2014-05-27 09:30:00-04:00</th>\n",
       "      <td>555.008</td>\n",
       "      <td>556.3000</td>\n",
       "      <td>554.35</td>\n",
       "      <td>555.25</td>\n",
       "      <td>9900</td>\n",
       "    </tr>\n",
       "    <tr>\n",
       "      <th>2014-05-27 09:40:00-04:00</th>\n",
       "      <td>556.190</td>\n",
       "      <td>556.5600</td>\n",
       "      <td>556.13</td>\n",
       "      <td>556.35</td>\n",
       "      <td>3500</td>\n",
       "    </tr>\n",
       "    <tr>\n",
       "      <th>2014-05-27 09:50:00-04:00</th>\n",
       "      <td>554.770</td>\n",
       "      <td>555.5500</td>\n",
       "      <td>554.77</td>\n",
       "      <td>555.55</td>\n",
       "      <td>3400</td>\n",
       "    </tr>\n",
       "    <tr>\n",
       "      <th>2014-05-27 10:00:00-04:00</th>\n",
       "      <td>554.580</td>\n",
       "      <td>554.9847</td>\n",
       "      <td>554.45</td>\n",
       "      <td>554.58</td>\n",
       "      <td>1800</td>\n",
       "    </tr>\n",
       "  </tbody>\n",
       "</table>\n",
       "</div>"
      ],
      "text/plain": [
       "                             close      high     low    open  volume\n",
       "tstamp                                                              \n",
       "2014-05-27 09:30:00-04:00  555.008  556.3000  554.35  555.25    9900\n",
       "2014-05-27 09:40:00-04:00  556.190  556.5600  556.13  556.35    3500\n",
       "2014-05-27 09:50:00-04:00  554.770  555.5500  554.77  555.55    3400\n",
       "2014-05-27 10:00:00-04:00  554.580  554.9847  554.45  554.58    1800"
      ]
     },
     "execution_count": 161,
     "metadata": {},
     "output_type": "execute_result"
    }
   ],
   "source": [
    "googTickTS.resample('10Min').min().head(4)"
   ]
  },
  {
   "cell_type": "code",
   "execution_count": 162,
   "metadata": {},
   "outputs": [
    {
     "data": {
      "text/html": [
       "<div>\n",
       "<style scoped>\n",
       "    .dataframe tbody tr th:only-of-type {\n",
       "        vertical-align: middle;\n",
       "    }\n",
       "\n",
       "    .dataframe tbody tr th {\n",
       "        vertical-align: top;\n",
       "    }\n",
       "\n",
       "    .dataframe thead th {\n",
       "        text-align: right;\n",
       "    }\n",
       "</style>\n",
       "<table border=\"1\" class=\"dataframe\">\n",
       "  <thead>\n",
       "    <tr style=\"text-align: right;\">\n",
       "      <th></th>\n",
       "      <th>close</th>\n",
       "      <th>high</th>\n",
       "      <th>low</th>\n",
       "      <th>open</th>\n",
       "      <th>volume</th>\n",
       "    </tr>\n",
       "    <tr>\n",
       "      <th>tstamp</th>\n",
       "      <th></th>\n",
       "      <th></th>\n",
       "      <th></th>\n",
       "      <th></th>\n",
       "      <th></th>\n",
       "    </tr>\n",
       "  </thead>\n",
       "  <tbody>\n",
       "    <tr>\n",
       "      <th>2014-05-27 15:45:00-04:00</th>\n",
       "      <td>3385.9000</td>\n",
       "      <td>3386.24</td>\n",
       "      <td>3384.645</td>\n",
       "      <td>3385.0199</td>\n",
       "      <td>76900</td>\n",
       "    </tr>\n",
       "    <tr>\n",
       "      <th>2014-05-27 15:50:00-04:00</th>\n",
       "      <td>2260.4510</td>\n",
       "      <td>2260.69</td>\n",
       "      <td>2260.036</td>\n",
       "      <td>2260.2600</td>\n",
       "      <td>53300</td>\n",
       "    </tr>\n",
       "    <tr>\n",
       "      <th>2014-05-27 15:55:00-04:00</th>\n",
       "      <td>3393.0951</td>\n",
       "      <td>3393.62</td>\n",
       "      <td>3391.850</td>\n",
       "      <td>3392.4950</td>\n",
       "      <td>245600</td>\n",
       "    </tr>\n",
       "  </tbody>\n",
       "</table>\n",
       "</div>"
      ],
      "text/plain": [
       "                               close     high       low       open  volume\n",
       "tstamp                                                                    \n",
       "2014-05-27 15:45:00-04:00  3385.9000  3386.24  3384.645  3385.0199   76900\n",
       "2014-05-27 15:50:00-04:00  2260.4510  2260.69  2260.036  2260.2600   53300\n",
       "2014-05-27 15:55:00-04:00  3393.0951  3393.62  3391.850  3392.4950  245600"
      ]
     },
     "execution_count": 162,
     "metadata": {},
     "output_type": "execute_result"
    }
   ],
   "source": [
    "pd.set_option('display.precision',5)\n",
    "googTickTS.resample('5Min', closed='right').sum().tail(3)"
   ]
  },
  {
   "cell_type": "markdown",
   "metadata": {},
   "source": [
    "EX13: Determine how the gaps should be filled"
   ]
  },
  {
   "cell_type": "code",
   "execution_count": 166,
   "metadata": {},
   "outputs": [
    {
     "data": {
      "text/html": [
       "<div>\n",
       "<style scoped>\n",
       "    .dataframe tbody tr th:only-of-type {\n",
       "        vertical-align: middle;\n",
       "    }\n",
       "\n",
       "    .dataframe tbody tr th {\n",
       "        vertical-align: top;\n",
       "    }\n",
       "\n",
       "    .dataframe thead th {\n",
       "        text-align: right;\n",
       "    }\n",
       "</style>\n",
       "<table border=\"1\" class=\"dataframe\">\n",
       "  <thead>\n",
       "    <tr style=\"text-align: right;\">\n",
       "      <th></th>\n",
       "      <th>close</th>\n",
       "      <th>high</th>\n",
       "      <th>low</th>\n",
       "      <th>open</th>\n",
       "      <th>volume</th>\n",
       "    </tr>\n",
       "    <tr>\n",
       "      <th>tstamp</th>\n",
       "      <th></th>\n",
       "      <th></th>\n",
       "      <th></th>\n",
       "      <th></th>\n",
       "      <th></th>\n",
       "    </tr>\n",
       "  </thead>\n",
       "  <tbody>\n",
       "    <tr>\n",
       "      <th>2014-05-27 09:30:00-04:00</th>\n",
       "      <td>NaN</td>\n",
       "      <td>NaN</td>\n",
       "      <td>NaN</td>\n",
       "      <td>NaN</td>\n",
       "      <td>NaN</td>\n",
       "    </tr>\n",
       "    <tr>\n",
       "      <th>2014-05-27 09:30:30-04:00</th>\n",
       "      <td>555.008</td>\n",
       "      <td>556.41</td>\n",
       "      <td>554.35</td>\n",
       "      <td>556.38</td>\n",
       "      <td>81100.0</td>\n",
       "    </tr>\n",
       "    <tr>\n",
       "      <th>2014-05-27 09:31:00-04:00</th>\n",
       "      <td>556.250</td>\n",
       "      <td>556.30</td>\n",
       "      <td>555.25</td>\n",
       "      <td>555.25</td>\n",
       "      <td>18500.0</td>\n",
       "    </tr>\n",
       "    <tr>\n",
       "      <th>2014-05-27 09:31:30-04:00</th>\n",
       "      <td>556.250</td>\n",
       "      <td>556.30</td>\n",
       "      <td>555.25</td>\n",
       "      <td>555.25</td>\n",
       "      <td>18500.0</td>\n",
       "    </tr>\n",
       "    <tr>\n",
       "      <th>2014-05-27 09:32:00-04:00</th>\n",
       "      <td>556.250</td>\n",
       "      <td>556.30</td>\n",
       "      <td>555.25</td>\n",
       "      <td>555.25</td>\n",
       "      <td>18500.0</td>\n",
       "    </tr>\n",
       "  </tbody>\n",
       "</table>\n",
       "</div>"
      ],
      "text/plain": [
       "                             close    high     low    open   volume\n",
       "tstamp                                                             \n",
       "2014-05-27 09:30:00-04:00      NaN     NaN     NaN     NaN      NaN\n",
       "2014-05-27 09:30:30-04:00  555.008  556.41  554.35  556.38  81100.0\n",
       "2014-05-27 09:31:00-04:00  556.250  556.30  555.25  555.25  18500.0\n",
       "2014-05-27 09:31:30-04:00  556.250  556.30  555.25  555.25  18500.0\n",
       "2014-05-27 09:32:00-04:00  556.250  556.30  555.25  555.25  18500.0"
      ]
     },
     "execution_count": 166,
     "metadata": {},
     "output_type": "execute_result"
    }
   ],
   "source": [
    "googTickTS[:3].resample('30s').ffill()"
   ]
  },
  {
   "cell_type": "code",
   "execution_count": 165,
   "metadata": {},
   "outputs": [
    {
     "data": {
      "text/html": [
       "<div>\n",
       "<style scoped>\n",
       "    .dataframe tbody tr th:only-of-type {\n",
       "        vertical-align: middle;\n",
       "    }\n",
       "\n",
       "    .dataframe tbody tr th {\n",
       "        vertical-align: top;\n",
       "    }\n",
       "\n",
       "    .dataframe thead th {\n",
       "        text-align: right;\n",
       "    }\n",
       "</style>\n",
       "<table border=\"1\" class=\"dataframe\">\n",
       "  <thead>\n",
       "    <tr style=\"text-align: right;\">\n",
       "      <th></th>\n",
       "      <th>close</th>\n",
       "      <th>high</th>\n",
       "      <th>low</th>\n",
       "      <th>open</th>\n",
       "      <th>volume</th>\n",
       "    </tr>\n",
       "    <tr>\n",
       "      <th>tstamp</th>\n",
       "      <th></th>\n",
       "      <th></th>\n",
       "      <th></th>\n",
       "      <th></th>\n",
       "      <th></th>\n",
       "    </tr>\n",
       "  </thead>\n",
       "  <tbody>\n",
       "    <tr>\n",
       "      <th>2014-05-27 09:30:00-04:00</th>\n",
       "      <td>555.008</td>\n",
       "      <td>556.41</td>\n",
       "      <td>554.35</td>\n",
       "      <td>556.38</td>\n",
       "      <td>81100</td>\n",
       "    </tr>\n",
       "    <tr>\n",
       "      <th>2014-05-27 09:30:30-04:00</th>\n",
       "      <td>556.250</td>\n",
       "      <td>556.30</td>\n",
       "      <td>555.25</td>\n",
       "      <td>555.25</td>\n",
       "      <td>18500</td>\n",
       "    </tr>\n",
       "    <tr>\n",
       "      <th>2014-05-27 09:31:00-04:00</th>\n",
       "      <td>556.250</td>\n",
       "      <td>556.30</td>\n",
       "      <td>555.25</td>\n",
       "      <td>555.25</td>\n",
       "      <td>18500</td>\n",
       "    </tr>\n",
       "    <tr>\n",
       "      <th>2014-05-27 09:31:30-04:00</th>\n",
       "      <td>556.730</td>\n",
       "      <td>556.75</td>\n",
       "      <td>556.05</td>\n",
       "      <td>556.39</td>\n",
       "      <td>9900</td>\n",
       "    </tr>\n",
       "    <tr>\n",
       "      <th>2014-05-27 09:32:00-04:00</th>\n",
       "      <td>556.730</td>\n",
       "      <td>556.75</td>\n",
       "      <td>556.05</td>\n",
       "      <td>556.39</td>\n",
       "      <td>9900</td>\n",
       "    </tr>\n",
       "  </tbody>\n",
       "</table>\n",
       "</div>"
      ],
      "text/plain": [
       "                             close    high     low    open  volume\n",
       "tstamp                                                            \n",
       "2014-05-27 09:30:00-04:00  555.008  556.41  554.35  556.38   81100\n",
       "2014-05-27 09:30:30-04:00  556.250  556.30  555.25  555.25   18500\n",
       "2014-05-27 09:31:00-04:00  556.250  556.30  555.25  555.25   18500\n",
       "2014-05-27 09:31:30-04:00  556.730  556.75  556.05  556.39    9900\n",
       "2014-05-27 09:32:00-04:00  556.730  556.75  556.05  556.39    9900"
      ]
     },
     "execution_count": 165,
     "metadata": {},
     "output_type": "execute_result"
    }
   ],
   "source": [
    "googTickTS[:3].resample('30s').bfill()"
   ]
  },
  {
   "cell_type": "markdown",
   "metadata": {},
   "source": [
    "EX14: Aliases for Time Series frequencies \n",
    "<p>we resample every 7 minutes and 30 seconds:"
   ]
  },
  {
   "cell_type": "code",
   "execution_count": 167,
   "metadata": {},
   "outputs": [
    {
     "data": {
      "text/html": [
       "<div>\n",
       "<style scoped>\n",
       "    .dataframe tbody tr th:only-of-type {\n",
       "        vertical-align: middle;\n",
       "    }\n",
       "\n",
       "    .dataframe tbody tr th {\n",
       "        vertical-align: top;\n",
       "    }\n",
       "\n",
       "    .dataframe thead th {\n",
       "        text-align: right;\n",
       "    }\n",
       "</style>\n",
       "<table border=\"1\" class=\"dataframe\">\n",
       "  <thead>\n",
       "    <tr style=\"text-align: right;\">\n",
       "      <th></th>\n",
       "      <th>close</th>\n",
       "      <th>high</th>\n",
       "      <th>low</th>\n",
       "      <th>open</th>\n",
       "      <th>volume</th>\n",
       "    </tr>\n",
       "    <tr>\n",
       "      <th>tstamp</th>\n",
       "      <th></th>\n",
       "      <th></th>\n",
       "      <th></th>\n",
       "      <th></th>\n",
       "      <th></th>\n",
       "    </tr>\n",
       "  </thead>\n",
       "  <tbody>\n",
       "    <tr>\n",
       "      <th>2014-05-27 09:30:00-04:00</th>\n",
       "      <td>4454.6130</td>\n",
       "      <td>4459.4900</td>\n",
       "      <td>4450.5150</td>\n",
       "      <td>4455.0400</td>\n",
       "      <td>224600</td>\n",
       "    </tr>\n",
       "    <tr>\n",
       "      <th>2014-05-27 09:37:30-04:00</th>\n",
       "      <td>3896.1224</td>\n",
       "      <td>3898.5397</td>\n",
       "      <td>3894.9850</td>\n",
       "      <td>3897.0439</td>\n",
       "      <td>81500</td>\n",
       "    </tr>\n",
       "    <tr>\n",
       "      <th>2014-05-27 09:45:00-04:00</th>\n",
       "      <td>3898.9450</td>\n",
       "      <td>3900.5298</td>\n",
       "      <td>3897.0200</td>\n",
       "      <td>3898.9098</td>\n",
       "      <td>68600</td>\n",
       "    </tr>\n",
       "    <tr>\n",
       "      <th>2014-05-27 09:52:30-04:00</th>\n",
       "      <td>4449.4590</td>\n",
       "      <td>4452.3000</td>\n",
       "      <td>4448.2800</td>\n",
       "      <td>4451.1165</td>\n",
       "      <td>114800</td>\n",
       "    </tr>\n",
       "    <tr>\n",
       "      <th>2014-05-27 10:00:00-04:00</th>\n",
       "      <td>4441.6892</td>\n",
       "      <td>4443.4947</td>\n",
       "      <td>4438.6301</td>\n",
       "      <td>4439.7400</td>\n",
       "      <td>100100</td>\n",
       "    </tr>\n",
       "  </tbody>\n",
       "</table>\n",
       "</div>"
      ],
      "text/plain": [
       "                               close       high        low       open  volume\n",
       "tstamp                                                                       \n",
       "2014-05-27 09:30:00-04:00  4454.6130  4459.4900  4450.5150  4455.0400  224600\n",
       "2014-05-27 09:37:30-04:00  3896.1224  3898.5397  3894.9850  3897.0439   81500\n",
       "2014-05-27 09:45:00-04:00  3898.9450  3900.5298  3897.0200  3898.9098   68600\n",
       "2014-05-27 09:52:30-04:00  4449.4590  4452.3000  4448.2800  4451.1165  114800\n",
       "2014-05-27 10:00:00-04:00  4441.6892  4443.4947  4438.6301  4439.7400  100100"
      ]
     },
     "execution_count": 167,
     "metadata": {},
     "output_type": "execute_result"
    }
   ],
   "source": [
    "googTickTS.resample('7T30S').sum().head(5)"
   ]
  },
  {
   "cell_type": "markdown",
   "metadata": {},
   "source": [
    "EX15: Time series concepts and datatypes"
   ]
  },
  {
   "cell_type": "code",
   "execution_count": 134,
   "metadata": {},
   "outputs": [
    {
     "data": {
      "text/plain": [
       "Period('2014', 'A-MAY')"
      ]
     },
     "execution_count": 134,
     "metadata": {},
     "output_type": "execute_result"
    }
   ],
   "source": [
    "pd.Period('2014', freq='A-MAY')"
   ]
  },
  {
   "cell_type": "code",
   "execution_count": 135,
   "metadata": {},
   "outputs": [
    {
     "data": {
      "text/plain": [
       "Period('2014-06-11', 'D')"
      ]
     },
     "execution_count": 135,
     "metadata": {},
     "output_type": "execute_result"
    }
   ],
   "source": [
    "pd.Period('06/11/2014')"
   ]
  },
  {
   "cell_type": "code",
   "execution_count": 136,
   "metadata": {},
   "outputs": [
    {
     "data": {
      "text/plain": [
       "Period('1918-11-11 11:00', 'H')"
      ]
     },
     "execution_count": 136,
     "metadata": {},
     "output_type": "execute_result"
    }
   ],
   "source": [
    "pd.Period('11/11/1918 11:00',freq='H')"
   ]
  },
  {
   "cell_type": "code",
   "execution_count": 139,
   "metadata": {},
   "outputs": [
    {
     "data": {
      "text/plain": [
       "Period('2014-07-04', 'D')"
      ]
     },
     "execution_count": 139,
     "metadata": {},
     "output_type": "execute_result"
    }
   ],
   "source": [
    "pd.Period('06/30/2014') + 4"
   ]
  },
  {
   "cell_type": "code",
   "execution_count": 138,
   "metadata": {},
   "outputs": [
    {
     "data": {
      "text/plain": [
       "Period('1918-11-09 11:00', 'H')"
      ]
     },
     "execution_count": 138,
     "metadata": {},
     "output_type": "execute_result"
    }
   ],
   "source": [
    "pd.Period('11/11/1918 11:00',freq='H') - 48"
   ]
  },
  {
   "cell_type": "code",
   "execution_count": 141,
   "metadata": {},
   "outputs": [
    {
     "data": {
      "text/plain": [
       "<14 * MonthEnds>"
      ]
     },
     "execution_count": 141,
     "metadata": {},
     "output_type": "execute_result"
    }
   ],
   "source": [
    "pd.Period('2014-04', freq='M') - pd.Period('2013-02', freq='M')"
   ]
  },
  {
   "cell_type": "markdown",
   "metadata": {},
   "source": [
    "EX16: PeriodIndex"
   ]
  },
  {
   "cell_type": "code",
   "execution_count": 142,
   "metadata": {},
   "outputs": [
    {
     "data": {
      "text/plain": [
       "PeriodIndex(['2014-02-01', '2014-02-02', '2014-02-03', '2014-02-04',\n",
       "             '2014-02-05', '2014-02-06'],\n",
       "            dtype='period[D]', freq='D')"
      ]
     },
     "execution_count": 142,
     "metadata": {},
     "output_type": "execute_result"
    }
   ],
   "source": [
    "perRng = pd.period_range('02/01/2014','02/06/2014',freq='D'); perRng"
   ]
  },
  {
   "cell_type": "code",
   "execution_count": 143,
   "metadata": {},
   "outputs": [
    {
     "data": {
      "text/plain": [
       "pandas.core.indexes.period.PeriodIndex"
      ]
     },
     "execution_count": 143,
     "metadata": {},
     "output_type": "execute_result"
    }
   ],
   "source": [
    "type(perRng[:2])"
   ]
  },
  {
   "cell_type": "code",
   "execution_count": 144,
   "metadata": {},
   "outputs": [
    {
     "data": {
      "text/plain": [
       "PeriodIndex(['2014-02-01', '2014-02-02'], dtype='period[D]', freq='D')"
      ]
     },
     "execution_count": 144,
     "metadata": {},
     "output_type": "execute_result"
    }
   ],
   "source": [
    "perRng[:2]"
   ]
  },
  {
   "cell_type": "code",
   "execution_count": 145,
   "metadata": {},
   "outputs": [
    {
     "data": {
      "text/plain": [
       "PeriodIndex(['2014-07-01', '2014-07-31'], dtype='period[D]', freq='D')"
      ]
     },
     "execution_count": 145,
     "metadata": {},
     "output_type": "execute_result"
    }
   ],
   "source": [
    "JulyPeriod = pd.PeriodIndex(['07/01/2014','07/31/2014'],freq='D'); JulyPeriod "
   ]
  },
  {
   "cell_type": "markdown",
   "metadata": {},
   "source": [
    "EX17: Conversions between Time Series datatypes\n",
    "<p>errors{‘ignore’, ‘raise’, ‘coerce’}, default ‘raise’\n",
    "<li>If ‘raise’, then invalid parsing will raise an exception.\n",
    "<li>If ‘coerce’, then invalid parsing will be set as NaT.\n",
    "<li>If ‘ignore’, then invalid parsing will return the input."
   ]
  },
  {
   "cell_type": "code",
   "execution_count": 146,
   "metadata": {},
   "outputs": [
    {
     "data": {
      "text/plain": [
       "Timestamp('2014-07-13 00:00:00')"
      ]
     },
     "execution_count": 146,
     "metadata": {},
     "output_type": "execute_result"
    }
   ],
   "source": [
    "worldCupFinal = pd.to_datetime('07/13/2014',errors='raise'); worldCupFinal"
   ]
  },
  {
   "cell_type": "code",
   "execution_count": 147,
   "metadata": {},
   "outputs": [
    {
     "data": {
      "text/plain": [
       "Period('2014-07-13', 'D')"
      ]
     },
     "execution_count": 147,
     "metadata": {},
     "output_type": "execute_result"
    }
   ],
   "source": [
    "worldCupFinal.to_period('D')"
   ]
  },
  {
   "cell_type": "code",
   "execution_count": 148,
   "metadata": {},
   "outputs": [
    {
     "data": {
      "text/plain": [
       "Period('2014-06-12', 'D')"
      ]
     },
     "execution_count": 148,
     "metadata": {},
     "output_type": "execute_result"
    }
   ],
   "source": [
    "worldCupKickoff = pd.Period('06/12/2014','D'); worldCupKickoff"
   ]
  },
  {
   "cell_type": "code",
   "execution_count": 149,
   "metadata": {},
   "outputs": [
    {
     "data": {
      "text/plain": [
       "Timestamp('2014-06-12 00:00:00')"
      ]
     },
     "execution_count": 149,
     "metadata": {},
     "output_type": "execute_result"
    }
   ],
   "source": [
    "worldCupKickoff.to_timestamp()"
   ]
  },
  {
   "cell_type": "code",
   "execution_count": 151,
   "metadata": {},
   "outputs": [
    {
     "data": {
      "text/plain": [
       "DatetimeIndex(['2014-06-12', '2014-06-13', '2014-06-14', '2014-06-15',\n",
       "               '2014-06-16', '2014-06-17', '2014-06-18', '2014-06-19',\n",
       "               '2014-06-20', '2014-06-21', '2014-06-22', '2014-06-23',\n",
       "               '2014-06-24', '2014-06-25', '2014-06-26', '2014-06-27',\n",
       "               '2014-06-28', '2014-06-29', '2014-06-30', '2014-07-01',\n",
       "               '2014-07-02', '2014-07-03', '2014-07-04', '2014-07-05',\n",
       "               '2014-07-06', '2014-07-07', '2014-07-08', '2014-07-09',\n",
       "               '2014-07-10', '2014-07-11', '2014-07-12', '2014-07-13'],\n",
       "              dtype='datetime64[ns]', freq='D')"
      ]
     },
     "execution_count": 151,
     "metadata": {},
     "output_type": "execute_result"
    }
   ],
   "source": [
    "worldCupDays = pd.date_range('06/12/2014',periods=32, freq='D'); worldCupDays"
   ]
  },
  {
   "cell_type": "code",
   "execution_count": 152,
   "metadata": {},
   "outputs": [
    {
     "data": {
      "text/plain": [
       "PeriodIndex(['2014-06-12', '2014-06-13', '2014-06-14', '2014-06-15',\n",
       "             '2014-06-16', '2014-06-17', '2014-06-18', '2014-06-19',\n",
       "             '2014-06-20', '2014-06-21', '2014-06-22', '2014-06-23',\n",
       "             '2014-06-24', '2014-06-25', '2014-06-26', '2014-06-27',\n",
       "             '2014-06-28', '2014-06-29', '2014-06-30', '2014-07-01',\n",
       "             '2014-07-02', '2014-07-03', '2014-07-04', '2014-07-05',\n",
       "             '2014-07-06', '2014-07-07', '2014-07-08', '2014-07-09',\n",
       "             '2014-07-10', '2014-07-11', '2014-07-12', '2014-07-13'],\n",
       "            dtype='period[D]', freq='D')"
      ]
     },
     "execution_count": 152,
     "metadata": {},
     "output_type": "execute_result"
    }
   ],
   "source": [
    "worldCupDays.to_period()"
   ]
  },
  {
   "cell_type": "markdown",
   "metadata": {},
   "source": [
    "<b style=\"color:LightSteelBlue;font-size:130%\">Plotting using </b><b style=\"color:DarkSlateBlue;font-size:130%\">matplotlib</b>"
   ]
  },
  {
   "cell_type": "markdown",
   "metadata": {},
   "source": [
    "EX18:"
   ]
  },
  {
   "cell_type": "code",
   "execution_count": 155,
   "metadata": {},
   "outputs": [
    {
     "data": {
      "text/html": [
       "<div>\n",
       "<style scoped>\n",
       "    .dataframe tbody tr th:only-of-type {\n",
       "        vertical-align: middle;\n",
       "    }\n",
       "\n",
       "    .dataframe tbody tr th {\n",
       "        vertical-align: top;\n",
       "    }\n",
       "\n",
       "    .dataframe thead th {\n",
       "        text-align: right;\n",
       "    }\n",
       "</style>\n",
       "<table border=\"1\" class=\"dataframe\">\n",
       "  <thead>\n",
       "    <tr style=\"text-align: right;\">\n",
       "      <th></th>\n",
       "      <th>sin(x)+cos(x)</th>\n",
       "      <th>sin(x)-cos(x)</th>\n",
       "    </tr>\n",
       "  </thead>\n",
       "  <tbody>\n",
       "    <tr>\n",
       "      <th>-3.1416</th>\n",
       "      <td>-1.0000</td>\n",
       "      <td>1.0000</td>\n",
       "    </tr>\n",
       "    <tr>\n",
       "      <th>-3.1170</th>\n",
       "      <td>-1.0243</td>\n",
       "      <td>0.9751</td>\n",
       "    </tr>\n",
       "    <tr>\n",
       "      <th>-3.0923</th>\n",
       "      <td>-1.0480</td>\n",
       "      <td>0.9495</td>\n",
       "    </tr>\n",
       "    <tr>\n",
       "      <th>-3.0677</th>\n",
       "      <td>-1.0711</td>\n",
       "      <td>0.9234</td>\n",
       "    </tr>\n",
       "    <tr>\n",
       "      <th>-3.0430</th>\n",
       "      <td>-1.0935</td>\n",
       "      <td>0.8967</td>\n",
       "    </tr>\n",
       "  </tbody>\n",
       "</table>\n",
       "</div>"
      ],
      "text/plain": [
       "         sin(x)+cos(x)  sin(x)-cos(x)\n",
       "-3.1416        -1.0000         1.0000\n",
       "-3.1170        -1.0243         0.9751\n",
       "-3.0923        -1.0480         0.9495\n",
       "-3.0677        -1.0711         0.9234\n",
       "-3.0430        -1.0935         0.8967"
      ]
     },
     "execution_count": 155,
     "metadata": {},
     "output_type": "execute_result"
    }
   ],
   "source": [
    "X = np.linspace(-np.pi, np.pi, 256,endpoint=True)\n",
    "f,g = np.cos(X)+np.sin(X), np.sin(X)-np.cos(X)\n",
    "f_ser = pd.Series(f)\n",
    "g_ser = pd.Series(g)\n",
    "plotDF = pd.concat([f_ser,g_ser],axis=1)\n",
    "plotDF.index = X\n",
    "plotDF.columns=['sin(x)+cos(x)','sin(x)-cos(x)']\n",
    "plotDF.head()"
   ]
  },
  {
   "cell_type": "code",
   "execution_count": 156,
   "metadata": {},
   "outputs": [
    {
     "data": {
      "image/png": "[encoded data removed]",
      "text/plain": [
       "<Figure size 432x288 with 1 Axes>"
      ]
     },
     "metadata": {
      "needs_background": "light"
     },
     "output_type": "display_data"
    }
   ],
   "source": [
    "plotDF.plot()\n",
    "plt.show()"
   ]
  },
  {
   "cell_type": "code",
   "execution_count": 157,
   "metadata": {},
   "outputs": [
    {
     "data": {
      "image/png": "[encoded data removed]",
      "text/plain": [
       "<Figure size 432x288 with 1 Axes>"
      ]
     },
     "metadata": {
      "needs_background": "light"
     },
     "output_type": "display_data"
    }
   ],
   "source": [
    "plotDF.columns=['f(x)','g(x)']\n",
    "plotDF.plot(title='Plot of f(x)=sin(x)+cos(x), \\ng(x)=sinx(x)-cos(x)')\n",
    "plt.show()"
   ]
  },
  {
   "cell_type": "code",
   "execution_count": 158,
   "metadata": {},
   "outputs": [
    {
     "data": {
      "image/png": "[encoded data removed]",
      "text/plain": [
       "<Figure size 432x432 with 2 Axes>"
      ]
     },
     "metadata": {
      "needs_background": "light"
     },
     "output_type": "display_data"
    }
   ],
   "source": [
    "plotDF.plot(subplots=True, figsize=(6,6))\n",
    "plt.show()"
   ]
  },
  {
   "cell_type": "code",
   "execution_count": null,
   "metadata": {},
   "outputs": [],
   "source": []
  }
 ],
 "metadata": {
  "kernelspec": {
   "display_name": "Python 3 (ipykernel)",
   "language": "python",
   "name": "python3"
  },
  "language_info": {
   "codemirror_mode": {
    "name": "ipython",
    "version": 3
   },
   "file_extension": ".py",
   "mimetype": "text/x-python",
   "name": "python",
   "nbconvert_exporter": "python",
   "pygments_lexer": "ipython3",
   "version": "3.9.12"
  }
 },
 "nbformat": 4,
 "nbformat_minor": 4
}
